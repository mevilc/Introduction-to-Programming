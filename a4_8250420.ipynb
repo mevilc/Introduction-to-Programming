{
  "nbformat": 4,
  "nbformat_minor": 0,
  "metadata": {
    "colab": {
      "name": "a4_8250420.ipynb",
      "provenance": [],
      "collapsed_sections": []
    },
    "kernelspec": {
      "name": "python3",
      "display_name": "Python 3"
    },
    "language_info": {
      "name": "python"
    }
  },
  "cells": [
    {
      "cell_type": "code",
      "metadata": {
        "id": "R5Rl-Kdxtm3E"
      },
      "source": [
        "# ITI 1120\n",
        "# Assignment 4\n",
        "# Due Date: April 10, 2021\n",
        "# Crasta, Mevil\n",
        "# 8250420"
      ],
      "execution_count": null,
      "outputs": []
    },
    {
      "cell_type": "markdown",
      "metadata": {
        "id": "NWW8qBWG25eB"
      },
      "source": [
        "Write a function called tally_scores that takes as a parameter the name of a file that contains a series of student records and that prints a summary of each student record.  A student record will begin with a name followed by a sequence of integer test scores.  The name is guaranteed to be one word and at the beginning of the line.  You may assume that each student has at least one test score.  Your function should produce two lines of output for each student: one showing the student's name and test scores and a second line showing the average score.\n",
        "For example, if a file called records.txt contains the following:\n",
        "\n",
        "\tJohn 71 83 94 \n",
        "\tSally 94 85 \n",
        "\tFred 90 95 82 85\n",
        "  and the following call is made:\n",
        "  \n",
        "    tally_scores(records)\n",
        " the following output should be produced:\n",
        "\n",
        "\tJohn: 71 83 94\n",
        "\taverage = 82.66666666666667\n",
        "\tSally: 94 85\n",
        "\taverage = 89.5\n",
        "\tFred: 90 95 82 85\n",
        "\taverage = 88.0\n",
        "\n",
        "You are to exactly reproduce the format of this output.  You may not construct any extra data structures to solve this problem.\n"
      ]
    },
    {
      "cell_type": "code",
      "metadata": {
        "colab": {
          "base_uri": "https://localhost:8080/"
        },
        "id": "HChl0TaCvTcQ",
        "outputId": "d02fca55-09d7-4f02-b105-0521265b9212"
      },
      "source": [
        "from google.colab import drive\n",
        "drive.mount('/content/drive')"
      ],
      "execution_count": 3,
      "outputs": [
        {
          "output_type": "stream",
          "text": [
            "Mounted at /content/drive\n"
          ],
          "name": "stdout"
        }
      ]
    },
    {
      "cell_type": "code",
      "metadata": {
        "id": "rNwXm5KF2xWH"
      },
      "source": [
        "def tally_scores(file_name):\n",
        "  '''(None)->None\n",
        "  Prints the student record from file_name\n",
        "  and the average of their scores.\n",
        "  Precondition: student name is atleast one word\n",
        "  and atleast one score. '''\n",
        "\n",
        "  data_path='/content/drive/My Drive/ITI1120/Assignment4/'\n",
        "  file_open=open(data_path+file_name).read().splitlines()\n",
        "\n",
        "  for i in range(len(file_open)):\n",
        "    average=0 # tracks the average\n",
        "    num_of_scores=0 # tracks the number of test scores\n",
        "    print(file_open[i]) # prints the name and scores in one line\n",
        "    file_open_elem=file_open[i].split(\" \")\n",
        "  \n",
        "    for j in file_open_elem[1:]:\n",
        "      average+=int(j)\n",
        "      num_of_scores+=1\n",
        "    print(\"Average =\", average/num_of_scores)"
      ],
      "execution_count": 82,
      "outputs": []
    },
    {
      "cell_type": "code",
      "metadata": {
        "colab": {
          "base_uri": "https://localhost:8080/"
        },
        "id": "9RydZB3z7cmH",
        "outputId": "615b725e-01ac-4495-a4d0-bbe7ec8e95d2"
      },
      "source": [
        "tally_scores('records.txt')"
      ],
      "execution_count": 83,
      "outputs": [
        {
          "output_type": "stream",
          "text": [
            "John 71 83 94\n",
            "Average = 82.66666666666667\n",
            "Sally 94 85\n",
            "Average = 89.5\n",
            "Fred 90 95 82 85\n",
            "Average = 88.0\n"
          ],
          "name": "stdout"
        }
      ]
    },
    {
      "cell_type": "markdown",
      "metadata": {
        "id": "Y8mJIOZt32ep"
      },
      "source": [
        "Write a function called underline that takes a file name as a parameter and that prints the words one per line with certain words underlined.  The words to be underlined all begin with a period.  The period should not be printed.  You should print the text that follows the period on a line by itself followed by a line of alternating dashes and commas equal in length to the text that follows the period. \n",
        "\n",
        "![Q02.PNG](data:image/png;base64,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)\n",
        "\n",
        "\n",
        "Notice that input lines can be blank lines.  You may not construct any extra data structures to solve this problem other than strings.\n"
      ]
    },
    {
      "cell_type": "code",
      "metadata": {
        "id": "5JKW-mt_5IyV"
      },
      "source": [
        "def underline(txt_file):\n",
        "  '''(None) -> None\n",
        "  Prints each word from txt_file into a\n",
        "  new line, with words starting with a leading zero\n",
        "  underlined with \"-\" and \",\".\n",
        "  '''\n",
        "\n",
        "  file_path='/content/drive/My Drive/ITI1120/Assignment4/'\n",
        "  txt_open=open(file_path+txt_file).read().splitlines()\n",
        "  \n",
        "  # splits each word in above list by \" \"\n",
        "  for i in txt_open:\n",
        "    split_txt=i.split(\" \")\n",
        "\n",
        "    # go through each word in the split list\n",
        "    for word in split_txt:\n",
        "      if word!=\"\": # if word is not a blank line\n",
        "        if word[0]==\".\": # if first character of word is a period\n",
        "          print(word[1:],end=\"\\n\")\n",
        "\n",
        "          # this prints the underline\n",
        "          for k in range(len(word)-1):\n",
        "            if k%2==0:\n",
        "              print(\"-\",end=\"\")\n",
        "            else:\n",
        "              print(\",\",end=\"\")\n",
        "          print()\n",
        "\n",
        "        # if first character is not period, just print the word in new line  \n",
        "        elif word[0]!=\".\":\n",
        "          print(word)\n",
        "\n",
        "      # if word is a blank line, just print a blank line\n",
        "      elif word==\"\":\n",
        "        print() "
      ],
      "execution_count": 29,
      "outputs": []
    },
    {
      "cell_type": "code",
      "metadata": {
        "colab": {
          "base_uri": "https://localhost:8080/"
        },
        "id": "OOx0TjAFTQ0Q",
        "outputId": "d46a32df-2035-40dd-c7b3-22b8ba680133"
      },
      "source": [
        "underline(\"input.txt\")"
      ],
      "execution_count": 30,
      "outputs": [
        {
          "output_type": "stream",
          "text": [
            "Banana\n",
            "avacado\n",
            "-,-,-,-\n",
            "peach\n",
            "-,-,-\n",
            "PineApple-pumpkin\n",
            "pie.\n",
            "\n",
            "Nectarines\n",
            "-,-,-,-,-,\n",
            "GRAPES\n",
            "pomegranateS\n"
          ],
          "name": "stdout"
        }
      ]
    },
    {
      "cell_type": "markdown",
      "metadata": {
        "id": "Pk8uBOza5x-w"
      },
      "source": [
        "Write a function called merge_dict that takes two dictionaries, merge them, and returns a new dictionary. The returned dictionary should contain all the keys of the passed dictionaries. Moreover, the values of the common keys will be merged together in one list. However, the values of the unique keys should stay in the same format they have appeared in the input dictionaries.\n",
        "For example if you had the following dictionaries:\n",
        "\n",
        "\n",
        "d1 = {1:\"Moh\", 2:\"Aseel\", 3:\"Batoul\", 4:[\"Taylor\", \"Chan\", \"Laura\"]}\n",
        "\n",
        "d2 = {1: \"Nahid\", 2:\"Carter\", 3:\"John\", 6:\"Odak\"} \n",
        "\n",
        "Output:\n",
        "\n",
        "{1: ['Nahid', 'Moh'], 2: ['Carter', 'Aseel'], 3: ['John', 'Batoul'], 6: 'Odak', 4: ['Taylor', 'Chan', 'Laura']}\n",
        "\n",
        "Another Example:\n",
        "\n",
        "d1 = {1:\"Moh\", 2:\"Aseel\", 3:\"Batoul\", 4:[\"Taylor\", \"Chan\", \"Laura\"]}\n",
        "\n",
        "d2 = {1: \"Nahid\", 2:\"Carter\", 5:\"John\", 4:\"Odak\"}\n",
        "\n",
        "\n",
        "output:\n",
        "\n",
        "{1: ['Nahid', 'Moh'], 2: ['Carter', 'Aseel'], 5: 'John', 4: ['Taylor', 'Chan', 'Laura', 'Odak'], 3: 'Batoul'}"
      ]
    },
    {
      "cell_type": "code",
      "metadata": {
        "id": "0CKQyA_t6JEx"
      },
      "source": [
        "def merge_dict(d1,d2):\n",
        "  '''(dict,dict) -> dict\n",
        "  Returns a merged dictionary from d1 and d2,\n",
        "  with common values grouped in a list.\n",
        "  '''\n",
        "\n",
        "  d3={} # empty dictionary\n",
        "\n",
        "  # checks which dicitonary is bigger \n",
        "  # Starts looping through the bigger dictionary and compares keys with smaller dictionary\n",
        "  if len(d1)>len(d2):\n",
        "    larger=d1\n",
        "    smaller=d2\n",
        "  else:\n",
        "    larger=d2\n",
        "    smaller=d1\n",
        "\n",
        "  # Loops through bigger dictionary since more items to loop through w/out running out of range\n",
        "  for key in larger:\n",
        "    if key in smaller: # checks if key is also found in smaller dictionary\n",
        "\n",
        "      # checks if either dict has a value made of a list, then appends another value with the same\n",
        "      # key using the .append method\n",
        "      if type(larger[key]) == list:\n",
        "        d3.update({key:[larger[key].append(smaller[key])]})\n",
        "      elif type(smaller[key]) == list:\n",
        "        d3.update({key:[smaller[key].append(larger[key])]})\n",
        "      # if the value is not a list, add the value directly\n",
        "      else:\n",
        "        d3.update({key:[larger[key],smaller[key]]})\n",
        "        smaller.pop(key) # remove the common key and value from smaller dict\n",
        "    # if the key is unique, add it to d3\n",
        "    else:\n",
        "      d3.update({key:larger[key]})\n",
        "\n",
        "  #Checking to ensure the smaller dictionary is still empty\n",
        "  if len(smaller) != 0:\n",
        "    d3.update(smaller)   \n",
        "     \n",
        "  return d3\n"
      ],
      "execution_count": 137,
      "outputs": []
    },
    {
      "cell_type": "code",
      "metadata": {
        "colab": {
          "base_uri": "https://localhost:8080/"
        },
        "id": "7v-GGQDl69Xl",
        "outputId": "9db0608b-adf3-4a84-b012-d0394594d3df"
      },
      "source": [
        "d1 = {1:\"Moh\", 2:\"Aseel\", 3:\"Batoul\", 4:[\"Taylor\", \"Chan\", \"Laura\"]} \n",
        "d2 = {1: \"Nahid\", 2:\"Carter\", 3:\"John\", 6:\"Odak\"}\n",
        "merge_dict(d1,d2)"
      ],
      "execution_count": 138,
      "outputs": [
        {
          "output_type": "execute_result",
          "data": {
            "text/plain": [
              "{1: ['Nahid', 'Moh'],\n",
              " 2: ['Carter', 'Aseel'],\n",
              " 3: ['John', 'Batoul'],\n",
              " 4: ['Taylor', 'Chan', 'Laura'],\n",
              " 6: 'Odak'}"
            ]
          },
          "metadata": {
            "tags": []
          },
          "execution_count": 138
        }
      ]
    },
    {
      "cell_type": "code",
      "metadata": {
        "colab": {
          "base_uri": "https://localhost:8080/"
        },
        "id": "xiqsaHM6_1yS",
        "outputId": "798898eb-2238-4ab2-c913-4c6669b0ab33"
      },
      "source": [
        "d1 = {1:\"Moh\", 2:\"Aseel\", 3:\"Batoul\", 4:[\"Taylor\", \"Chan\", \"Laura\"]}  \n",
        "d2 = {1: \"Nahid\", 2:\"Carter\", 5:\"John\", 4:\"Odak\"}\n",
        "merge_dict(d1,d2) "
      ],
      "execution_count": 139,
      "outputs": [
        {
          "output_type": "execute_result",
          "data": {
            "text/plain": [
              "{1: ['Nahid', 'Moh'],\n",
              " 2: ['Carter', 'Aseel'],\n",
              " 3: 'Batoul',\n",
              " 4: ['Taylor', 'Chan', 'Laura', 'Odak'],\n",
              " 5: 'John'}"
            ]
          },
          "metadata": {
            "tags": []
          },
          "execution_count": 139
        }
      ]
    },
    {
      "cell_type": "code",
      "metadata": {
        "id": "LWzH7kqneO9I"
      },
      "source": [
        "# Question 4"
      ],
      "execution_count": null,
      "outputs": []
    },
    {
      "cell_type": "code",
      "metadata": {
        "id": "x2K95dED6Oa0"
      },
      "source": [
        "class Student:\n",
        "\n",
        "  # \"self\" relates each unique student to their attribute (the variable used in the class)\n",
        "\n",
        "  def __init__(self,name,id,score):\n",
        "    '''initialization function'''\n",
        "\n",
        "    # each time a student is introduced, comes here to fill in their info\n",
        "    # attributes\n",
        "    self.name=name\n",
        "    self.id=id\n",
        "    self.score=score\n",
        "\n",
        "  def getStdName(self):\n",
        "    '''Returns student name'''\n",
        "    return self.name\n",
        "\n",
        "  def getStdId(self):\n",
        "    '''Returns students id'''\n",
        "    return self.id\n",
        "\n",
        "  def getStdScore(self):\n",
        "    '''Returns students scores'''\n",
        "    return self.score\n",
        "\n",
        "  def __str__(self):\n",
        "    print(\"Name: \" + self.name)\n",
        "    print(\"Id: \" + self.id)\n",
        "    print(\"Score: \" + self.score)\n",
        "\n",
        "\n",
        "class Section:\n",
        "  def __init__(self,course_name,course_selection):\n",
        "    '''initialization function'''\n",
        "\n",
        "    self.course_name=course_name\n",
        "    self.course_selection=course_selection\n",
        "    self.std_list = [] # no need to provide std_list as a parameter. Can just initialize it here.\n",
        "\n",
        "  def add(self, student_object):\n",
        "    '''adds a student object to std_list'''\n",
        "\n",
        "    # std_list is a list of objects\n",
        "    self.std_list.append(student_object)\n",
        "    print(\"New Student \\\"\" + student_object.getStdName() + \"\\\" was added successfully!\")\n",
        "\n",
        "  def remove(self, student_object):\n",
        "    '''removes a student object from std_list'''\n",
        "\n",
        "    self.std_list.remove(student_object)\n",
        "    print(\"\\nRemoved \\\"\" + student_object.getStdName() + \"\\\" from section!\")\n",
        "  \n",
        "  def updateScore(self, student_object, std_score):\n",
        "    '''updates score in student object inside std_list'''\n",
        "\n",
        "    student_object.score = std_score\n",
        "    print(\"\\n\"+student_object.getStdName() + \" has updated their score!\")\n",
        "\n",
        "  def displaySection(self):\n",
        "    '''displays all attributes of the student object in std_list'''\n",
        "\n",
        "    print(\"\\nList of all students in Section:\")\n",
        "    for std in self.std_list:\n",
        "      print(std.getStdName(), std.getStdId(), std.getStdScore())   \n",
        "\n",
        "  def averageScore(self):\n",
        "    '''calculates average of student scores'''\n",
        "\n",
        "    avg = 0\n",
        "    for std in self.std_list:\n",
        "      avg += std.score\n",
        "    avg = avg/len(self.std_list)\n",
        "    print(\"\\nAverage of entire section: \" , round(avg,2))"
      ],
      "execution_count": 155,
      "outputs": []
    },
    {
      "cell_type": "code",
      "metadata": {
        "colab": {
          "base_uri": "https://localhost:8080/"
        },
        "id": "THgLR3riOMn9",
        "outputId": "8fe495cd-df33-438f-d6d5-ff5418603625"
      },
      "source": [
        "s1= Student(\"Mohamad\",\"600053\",100)\n",
        "s2= Student(\"Hoda\",\"700060\",200)\n",
        "s3= Student(\"Hassan\",\"800090\",300)\n",
        "sec= Section(\"ITI1120\",\"Section E\")\n",
        "sec.add(s1)\n",
        "sec.add(s2)\n",
        "sec.add(s3)\n",
        "sec.displaySection()\n",
        "sec.updateScore(s1,500)\n",
        "sec.displaySection()\n",
        "sec.averageScore()\n",
        "sec.remove(s3)\n",
        "sec.displaySection()\n",
        "sec.averageScore()"
      ],
      "execution_count": 156,
      "outputs": [
        {
          "output_type": "stream",
          "text": [
            "New Student \"Mohamad\" was added successfully!\n",
            "New Student \"Hoda\" was added successfully!\n",
            "New Student \"Hassan\" was added successfully!\n",
            "\n",
            "List of all students in Section:\n",
            "Mohamad 600053 100\n",
            "Hoda 700060 200\n",
            "Hassan 800090 300\n",
            "\n",
            "Mohamad has updated their score!\n",
            "\n",
            "List of all students in Section:\n",
            "Mohamad 600053 500\n",
            "Hoda 700060 200\n",
            "Hassan 800090 300\n",
            "\n",
            "Average of entire section:  333.33\n",
            "\n",
            "Removed \"Hassan\" from section!\n",
            "\n",
            "List of all students in Section:\n",
            "Mohamad 600053 500\n",
            "Hoda 700060 200\n",
            "\n",
            "Average of entire section:  350.0\n"
          ],
          "name": "stdout"
        }
      ]
    }
  ]
}