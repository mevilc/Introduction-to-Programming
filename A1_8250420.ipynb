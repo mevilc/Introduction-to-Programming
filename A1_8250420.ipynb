{
  "nbformat": 4,
  "nbformat_minor": 0,
  "metadata": {
    "colab": {
      "name": "A1_8250420.ipynb",
      "provenance": [],
      "collapsed_sections": []
    },
    "kernelspec": {
      "name": "python3",
      "display_name": "Python 3"
    }
  },
  "cells": [
    {
      "cell_type": "code",
      "metadata": {
        "id": "kYGUbq4nv_XE"
      },
      "source": [
        "# ITI 1120\n",
        "# Crasta, Mevil\n",
        "# 8250420\n",
        "# Assignment 1"
      ],
      "execution_count": null,
      "outputs": []
    },
    {
      "cell_type": "markdown",
      "metadata": {
        "id": "KsoyuLZ1wM6d"
      },
      "source": [
        "Problem 1"
      ]
    },
    {
      "cell_type": "code",
      "metadata": {
        "colab": {
          "base_uri": "https://localhost:8080/"
        },
        "id": "JMGKeBz8wOQY",
        "outputId": "5010e4b9-1758-4fe9-cf44-bfcbe03a3259"
      },
      "source": [
        "def series_sum():\n",
        "  ''' (None) -> (None or float)\n",
        "  returns None if negative number, otherwise the sum\n",
        "  of the series.\n",
        "  Precondition: n must be positive\n",
        "  '''\n",
        "  num = int(input(\"Enter a non-negative number: \"))\n",
        "  result = 1000\n",
        "  if num < 0:\n",
        "    return # returns None\n",
        "  else:\n",
        "    for i in range(1, num+1):\n",
        "      result += (1/(i**2))\n",
        "  return result\n",
        "\n",
        "series_sum()"
      ],
      "execution_count": 3,
      "outputs": [
        {
          "output_type": "stream",
          "text": [
            "Enter a non-negative number: 3\n"
          ],
          "name": "stdout"
        },
        {
          "output_type": "execute_result",
          "data": {
            "text/plain": [
              "1001.3611111111111"
            ]
          },
          "metadata": {
            "tags": []
          },
          "execution_count": 3
        }
      ]
    },
    {
      "cell_type": "markdown",
      "metadata": {
        "id": "8v-yb53p23rU"
      },
      "source": [
        "Problem 2"
      ]
    },
    {
      "cell_type": "code",
      "metadata": {
        "colab": {
          "base_uri": "https://localhost:8080/",
          "height": 52
        },
        "id": "i-OINqDO24yo",
        "outputId": "a163a7e5-18d0-48d1-e330-6182bfbc7dad"
      },
      "source": [
        "s=input(\"Enter a string: \") # asks user input\n",
        "\n",
        "def encrypt(s):\n",
        "  '''(str)->(str)\n",
        "  Returns an encrypted string, given a string\n",
        "  '''\n",
        "  cipher='' # setting up empty string to store final cipher\n",
        "  reverse=s[::-1] # reverses string\n",
        "\n",
        "  # add to cipher first and last of reverse\n",
        "  for i in range(len(reverse)):\n",
        "\n",
        "    # if only one letter remaining, just add it to the end of string\n",
        "    if len(reverse) == 1:\n",
        "      cipher=cipher+reverse[0]\n",
        "      reverse=''\n",
        "\n",
        "    # if no letter remaining, you have the final word\n",
        "    elif len(reverse)==0:\n",
        "      return cipher\n",
        "\n",
        "    # otherwise\n",
        "    else:\n",
        "      cipher=cipher+reverse[0]+reverse[-1] # adds the first and last letter\n",
        "      reverse=reverse[1:len(reverse)-1] # slices the first and last letter each time\n",
        "    \n",
        "  return cipher\n",
        "\n",
        "encrypt(s)"
      ],
      "execution_count": 59,
      "outputs": [
        {
          "output_type": "stream",
          "text": [
            "Enter a string: Hello, World\n"
          ],
          "name": "stdout"
        },
        {
          "output_type": "execute_result",
          "data": {
            "application/vnd.google.colaboratory.intrinsic+json": {
              "type": "string"
            },
            "text/plain": [
              "'dHlerlolWo ,'"
            ]
          },
          "metadata": {
            "tags": []
          },
          "execution_count": 59
        }
      ]
    },
    {
      "cell_type": "code",
      "metadata": {
        "colab": {
          "base_uri": "https://localhost:8080/"
        },
        "id": "DQ_n4G_pZjO6",
        "outputId": "544e4110-e3a3-4c79-93fa-730f1392c5b7"
      },
      "source": [
        "# asks user input\n",
        "month_1=int(input(\"Enter month number 1: \"))\n",
        "date_1=int(input(\"Enter a date 1: \"))\n",
        "month_2=int(input(\"Enter month number 2: \"))\n",
        "date_2=int(input(\"Enter a date 2: \"))\n",
        "\n",
        "# months 1,3,5,7,8,10,12 have 31 days\n",
        "# months 4,6,9,11 have 30 days\n",
        "# momonth 2 has 28 days (29 in leap years)\n",
        "\n",
        "def month_apart(month_1,date_1,month_2,date_2):\n",
        "\n",
        "  ''' (int,int,int,int) -> (Bool)\n",
        "  Returns True if month_1, date_1 is at least one month\n",
        "  ahead or after month_2, date_2. Otherwise, False.\n",
        "  One month is defined as atleast 31 days, not 30.\n",
        "  Includes both dates in calculation.\n",
        "  '''\n",
        "\n",
        "  # These two variables keeps track of which month has 30 or 31 days\n",
        "  m_count1=0\n",
        "  m_count2=0\n",
        "\n",
        "  # if non-consecutive months, its anyways a month apart\n",
        "  if (max(month_1,month_2)-min(month_1,month_2))>1:\n",
        "    return True\n",
        "\n",
        "  # if same month, its never a month apart (aka never 31 days apart)\n",
        "  if month_1==month_2:\n",
        "    return False\n",
        "\n",
        "  #otherwise\n",
        "\n",
        "  # assign m_count1\n",
        "  if month_1==1 or month_1==3 or month_1==5 or month_1==7 or month_1==8 or month_1==10 or month_1==12: # 31 day months\n",
        "    m_count1=31\n",
        "  elif month_1==2: # if month 1 is Feb\n",
        "    m_count1=28\n",
        "  else: # 30 day months\n",
        "    m_count1=30\n",
        "\n",
        "  # assign m_count2\n",
        "  if month_2==1 or month_2==3 or month_2==5 or month_2==7 or month_2==8 or month_2==10 or month_2==12: # 31 day months\n",
        "    m_count2=31\n",
        "  elif month_2==2: # if month 2 is Feb\n",
        "    m_count2=28\n",
        "  else: # 30 days months\n",
        "    m_count2=30\n",
        "\n",
        "  # if month 1>month 2, add 1 to difference\n",
        "  if month_1>month_2:\n",
        "    diff=(m_count2-date_2)+date_1+1\n",
        "  # if not, simple subtraction\n",
        "  else:\n",
        "    diff=(m_count1-date_1)+date_2+1\n",
        "    \n",
        "  # if diff is 31 days or greater, its atleast a month apart\n",
        "  if diff>=31:\n",
        "    return True\n",
        "  else:\n",
        "    return False\n",
        "\n",
        "month_apart(month_1,date_1,month_2,date_2)\n"
      ],
      "execution_count": 90,
      "outputs": [
        {
          "output_type": "stream",
          "text": [
            "Enter month number 1: 9\n",
            "Enter a date 1: 19\n",
            "Enter month number 2: 2\n",
            "Enter a date 2: 14\n",
            "lll\n"
          ],
          "name": "stdout"
        },
        {
          "output_type": "execute_result",
          "data": {
            "text/plain": [
              "True"
            ]
          },
          "metadata": {
            "tags": []
          },
          "execution_count": 90
        }
      ]
    },
    {
      "cell_type": "markdown",
      "metadata": {
        "id": "cAaSRh8-d5HW"
      },
      "source": [
        "Problem 4"
      ]
    },
    {
      "cell_type": "code",
      "metadata": {
        "colab": {
          "base_uri": "https://localhost:8080/"
        },
        "id": "UVQF-khyI9oB",
        "outputId": "c20bfcae-79f0-48ae-fb8f-90e2d3d9cb11"
      },
      "source": [
        "def count_even_integers(num,num_of_digits):\n",
        "  '''(int,int) -> (int)\n",
        "  Returns number of even digits in num.\n",
        "  Precondition: n is positive\n",
        "  '''\n",
        "  count=0\n",
        "  for i in range(num_of_digits):\n",
        "    tempNum = num%10\n",
        "    if tempNum%2==0:\n",
        "      count+=1\n",
        "    num=int(num/10)\n",
        "  return count\n",
        "\n",
        "count_even_integers(111000,6)\n"
      ],
      "execution_count": 108,
      "outputs": [
        {
          "output_type": "execute_result",
          "data": {
            "text/plain": [
              "3"
            ]
          },
          "metadata": {
            "tags": []
          },
          "execution_count": 108
        }
      ]
    }
  ]
}