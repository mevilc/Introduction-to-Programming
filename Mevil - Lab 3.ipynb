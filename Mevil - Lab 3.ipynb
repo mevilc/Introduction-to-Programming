{
  "nbformat": 4,
  "nbformat_minor": 0,
  "metadata": {
    "colab": {
      "name": "lab3_exercise.ipynb",
      "provenance": [],
      "collapsed_sections": [
        "GrAKu-PaMM4R",
        "-WpbbbKFIVrM",
        "jciHbDiRJH8G",
        "73RKnfZXJIqG",
        "awwvMCtpMfMm",
        "ZyzanFokMfbK"
      ]
    },
    "kernelspec": {
      "name": "python3",
      "display_name": "Python 3"
    }
  },
  "cells": [
    {
      "cell_type": "code",
      "metadata": {
        "id": "2cvYR-UwD_rb"
      },
      "source": [
        "# ITI 1120\n",
        "# Lab 3\n",
        "# Crasta, Mevil\n",
        "# 8250420"
      ],
      "execution_count": null,
      "outputs": []
    },
    {
      "cell_type": "markdown",
      "metadata": {
        "id": "GrAKu-PaMM4R"
      },
      "source": [
        "# Exercise 0"
      ]
    },
    {
      "cell_type": "markdown",
      "metadata": {
        "id": "-WpbbbKFIVrM"
      },
      "source": [
        "## Part 1\n",
        "\n",
        "In function info_day(today, weather, temperature), their is a print statement which is labeled as line 1. \n",
        "\n",
        "You are asked to create a string s below which allows the statement print(s) prints the SAME massage as line 1. "
      ]
    },
    {
      "cell_type": "code",
      "metadata": {
        "id": "QoS7sGPvHT97"
      },
      "source": [
        "def info_day(today, weather, temperature):\n",
        "     print(today, \"is a\", weather, \"day. The temperature is\", temperature, \"degrees Celsius.\")   ###line 1\n",
        "\n",
        "     # Create a string s below such that print(s) command below\n",
        "     # prints the exact same message as the above print statement.\n",
        "     # Once you are done, uncomment the two lines of code below\n",
        "     #\n",
        "     s = today + \" is a \" + weather + \" day. The temperature is \" + str(temperature) + \" degrees Celsius.\"\n",
        "     print(s)"
      ],
      "execution_count": null,
      "outputs": []
    },
    {
      "cell_type": "code",
      "metadata": {
        "id": "cFoWF-IhJKvM",
        "colab": {
          "base_uri": "https://localhost:8080/"
        },
        "outputId": "1c7c3300-3720-486e-f755-a3e0df9ffd66"
      },
      "source": [
        "# task cases for info_day(...)\n",
        "\n",
        "info_day(\"Saturday\", \"nice\", 29)\n",
        "info_day(\"Monday\", \"so so\", 15)"
      ],
      "execution_count": null,
      "outputs": [
        {
          "output_type": "stream",
          "text": [
            "Saturday is a nice day. The temperature is 29 degrees Celsius.\n",
            "Saturday is a nice day. The temperature is 29 degrees Celsius.\n",
            "Monday is a so so day. The temperature is 15 degrees Celsius.\n",
            "Monday is a so so day. The temperature is 15 degrees Celsius.\n"
          ],
          "name": "stdout"
        }
      ]
    },
    {
      "cell_type": "markdown",
      "metadata": {
        "id": "jciHbDiRJH8G"
      },
      "source": [
        "## Part 2\n",
        "\n",
        "Debug the following code cell."
      ]
    },
    {
      "cell_type": "code",
      "metadata": {
        "id": "kvBw92T0JIEa",
        "colab": {
          "base_uri": "https://localhost:8080/"
        },
        "outputId": "b1d0875e-7dc1-4712-aae2-0617ed88f6de"
      },
      "source": [
        "# Run the Cell. Why does it crash?\n",
        "# Can you fix it without chaning function call: letter_grade(\"B\")\n",
        "\n",
        "# It crashes because the function syntax is wrong. There should be no qoutes around grade in the parameter. \n",
        "# Also, the argument in the print statement, \"grade\", should not be qouted.\n",
        "\n",
        "def letter_grade(grade):\n",
        "    print(\"Your grade is\", grade)\n",
        "\n",
        "letter_grade(\"B\")"
      ],
      "execution_count": null,
      "outputs": [
        {
          "output_type": "stream",
          "text": [
            "Your grade is B\n"
          ],
          "name": "stdout"
        }
      ]
    },
    {
      "cell_type": "markdown",
      "metadata": {
        "id": "73RKnfZXJIqG"
      },
      "source": [
        "## Part 3\n",
        "Add a new code cell and implement a function namely average_of_two. \n",
        "\n",
        "It should act the same as the following cell.  Obtaining the input from the user and printing of the result must still be outside of the the function.\n",
        "\n",
        "Make sure to write DOCSTRINGS for your function, including TYPE CONTRACT.\n",
        "\n",
        "Test it by running help(average_of_two)."
      ]
    },
    {
      "cell_type": "code",
      "metadata": {
        "id": "KZPeOQvgJIw2",
        "colab": {
          "base_uri": "https://localhost:8080/"
        },
        "outputId": "2bcd735c-fcbb-4f75-bba7-f4b234862e8c"
      },
      "source": [
        "x=float(input(\"Give me 1st number: \"))\n",
        "y=float(input(\"give me 2nd number: \"))\n",
        "\n",
        "average=(x+y)/2\n",
        "\n",
        "print(\"The average of\", x, \"and\", y,\"is\", average)"
      ],
      "execution_count": 33,
      "outputs": [
        {
          "output_type": "stream",
          "text": [
            "Give me 1st number: 1\n",
            "give me 2nd number: 1\n",
            "The average of 1.0 and 1.0 is 1.0\n"
          ],
          "name": "stdout"
        }
      ]
    },
    {
      "cell_type": "code",
      "metadata": {
        "colab": {
          "base_uri": "https://localhost:8080/"
        },
        "id": "edTez70I2hu8",
        "outputId": "ee2cef62-5991-4f64-a51e-c9e6fb8e4101"
      },
      "source": [
        "x=float(input(\"Give me 1st number: \"))\n",
        "y=float(input(\"give me 2nd number: \"))\n",
        "\n",
        "def average_of_two(x, y):\n",
        "  ''' (float, float) -> float\n",
        "      Takes two numbers and averages them.\n",
        "  '''\n",
        "  return (x+y)/2\n",
        "\n",
        "print(\"The average of\", x, \"and\", y, \"is\", average_of_two(x, y))\n",
        "\n",
        "help(average_of_two) # prints out the docstring in the function"
      ],
      "execution_count": 35,
      "outputs": [
        {
          "output_type": "stream",
          "text": [
            "Give me 1st number: 1\n",
            "give me 2nd number: 1\n",
            "The average of 1.0 and 1.0 is 1.0\n",
            "Help on function average_of_two in module __main__:\n",
            "\n",
            "average_of_two(x, y)\n",
            "    (float, float) -> float\n",
            "    Takes two numbers and averages them.\n",
            "\n"
          ],
          "name": "stdout"
        }
      ]
    },
    {
      "cell_type": "markdown",
      "metadata": {
        "id": "awwvMCtpMfMm"
      },
      "source": [
        "# Exercise 1"
      ]
    },
    {
      "cell_type": "markdown",
      "metadata": {
        "id": "NwrAWCtpNntV"
      },
      "source": [
        "Write function called pay that takes as input an hourly wage and the number of hours an employee worked in the last week. The function should compute and return the employee’s pay. Overtime work should be paid in this way: Any hours beyond 40 but less than or equal 60 should be paid at 1.5 times the regular hourly wage. Any hours beyond 60 should be paid at 2 times the regular hourly wage. Important: "
      ]
    },
    {
      "cell_type": "markdown",
      "metadata": {
        "id": "IX2ZfN2yNqGH"
      },
      "source": [
        "**Important**: Note that I did not give you either the number of parameters or the names of parameters. You will have to figure it out on your own for this function. Looking at the test examples below should help."
      ]
    },
    {
      "cell_type": "code",
      "metadata": {
        "id": "gVSN37JxNRGX"
      },
      "source": [
        "### complete your code here ###\n",
        "\n",
        "def pay(wage, hours):\n",
        "  ''' (float, float) -> float\n",
        "      Takes hourly wage and hours worked and returns the total salary\n",
        "  '''\n",
        "  if hours <= 40:\n",
        "    return wage*hours\n",
        "  elif hours > 40 and hours <= 60:\n",
        "    return 40*wage + (hours-40)*1.5*wage\n",
        "  elif hours > 60:\n",
        "    return 40*wage + 20*1.5*wage + (hours-60)*2*wage\n",
        "\n",
        "### complete your code here ###"
      ],
      "execution_count": 36,
      "outputs": []
    },
    {
      "cell_type": "code",
      "metadata": {
        "id": "ewbAGgjkN-ZQ",
        "colab": {
          "base_uri": "https://localhost:8080/"
        },
        "outputId": "76880d11-7857-4995-bf79-cf343814f261"
      },
      "source": [
        "# task cases for pay(...)\n",
        "print(pay(10, 35)) # excepting 350\n",
        "print(pay(10, 45)) # excepting 475.0\n",
        "print(pay(10, 61)) # excepting 720.0"
      ],
      "execution_count": 37,
      "outputs": [
        {
          "output_type": "stream",
          "text": [
            "350\n",
            "475.0\n",
            "720.0\n"
          ],
          "name": "stdout"
        }
      ]
    },
    {
      "cell_type": "markdown",
      "metadata": {
        "id": "ZyzanFokMfbK"
      },
      "source": [
        "# Exercise 2"
      ]
    },
    {
      "cell_type": "markdown",
      "metadata": {
        "id": "JG_8G6AjN6y7"
      },
      "source": [
        "Rock, Paper, Scissors is a two-player game in which each player chooses one of three items. If both players choose the same item, the game is tied. Otherwise, the rules that determine the winner are: \n",
        "\n",
        "\n",
        "\n",
        "1.   Rock always beats Scissors (Rock crushes Scissors) \n",
        "2.   Scissors always beats Paper (Scissors cut Paper)\n",
        "3.   Paper always beats Rock (Paper covers Rock)\n",
        "\n",
        "\n",
        "Write a  function called rps that takes the choice  'R', 'P', or ‘S' of player 1 and the choice of player 2, and returns −1 if player 1 wins, 1 if player 2 wins, or 0 if there is a tie.”\n",
        "\n",
        "\n",
        "**Important**: Note that I did not give you either the number of parameters or the names of parameters. You will have to figure it out on your own. Looking at the example runs  below should help too:\n"
      ]
    },
    {
      "cell_type": "code",
      "metadata": {
        "id": "14gFMginN5PD"
      },
      "source": [
        "p1_win, p2_win, tie = -1, 1, 0\n",
        "\n",
        "def rps(player_1, player_2):\n",
        "  ''' Takes player choice and returns which player won or lost '''\n",
        "  if player_1 == 'R' and player_2 == 'S':\n",
        "    return p1_win\n",
        "  elif player_1 == 'S' and player_2 == 'R':\n",
        "    return p2_win\n",
        "  elif player_1 == 'S' and player_2 == 'P':\n",
        "    return p1_win\n",
        "  elif player_1 == 'P' and player_2 == 'S':\n",
        "    return p2_win\n",
        "  elif player_1 == 'P' and player_2 == 'R':\n",
        "    return p1_win\n",
        "  elif player_1 == 'R' and player_2 == 'P':\n",
        "    return p2_win\n",
        "  elif player_1 == player_2:\n",
        "    return tie"
      ],
      "execution_count": 42,
      "outputs": []
    },
    {
      "cell_type": "code",
      "metadata": {
        "id": "rI_kXNGiOzZG",
        "colab": {
          "base_uri": "https://localhost:8080/"
        },
        "outputId": "9d233e12-8bd1-4639-917e-1b13de836eaf"
      },
      "source": [
        "# task cases for rpc(...)\n",
        "print(rps('R', 'P')) # excepting 1\n",
        "print(rps('R', 'S')) # excepting -1\n",
        "print(rps('S', 'S')) # excepting 0"
      ],
      "execution_count": 43,
      "outputs": [
        {
          "output_type": "stream",
          "text": [
            "1\n",
            "-1\n",
            "0\n"
          ],
          "name": "stdout"
        }
      ]
    },
    {
      "cell_type": "markdown",
      "metadata": {
        "id": "u6yM_qfeMfgw"
      },
      "source": [
        "# Exercise 3"
      ]
    },
    {
      "cell_type": "markdown",
      "metadata": {
        "id": "HVQ83wGZRjXu"
      },
      "source": [
        "Write a program that uses a function called is_divisible().\n",
        "\n",
        "The function is_divisible has two input parameters that are integers n and m and returns True if n is divisible by m and False otherwise.\n",
        "\n",
        "Outside of that function, your program should interact with the user to get two integers. \n",
        "\n",
        "To determine if the 1st is divisible by the 2nd it should call is_divisible  function. It should print a message explaining the result. \n",
        "\n",
        "**Important:** You are provided with a test case for this exercise. You have to test your program by manually fill in the inputs. Make sure the program behaves as your expection.  "
      ]
    },
    {
      "cell_type": "code",
      "metadata": {
        "id": "G8Xp9zoCSezw"
      },
      "source": [
        "# declare your function (name, parameters, docstring...)\n",
        "def is_divisible(n, m):\n",
        "  ''' (int, int) -> boolean\n",
        "      Returns true if n is divisible by m, False otherwise.\n",
        "  '''\n",
        "  if(m == 0): # cannot divide by 0\n",
        "    return False\n",
        "  elif(n%m == 0):\n",
        "    return True\n",
        "  else:\n",
        "    return False"
      ],
      "execution_count": 45,
      "outputs": []
    },
    {
      "cell_type": "code",
      "metadata": {
        "id": "TmednapGPpiT",
        "colab": {
          "base_uri": "https://localhost:8080/"
        },
        "outputId": "3c869d95-325f-4738-b56e-2236dc08f737"
      },
      "source": [
        "### Start your program here ###\n",
        "\n",
        "# gather inputs\n",
        "n = int(input(\"Enter integer 1: \"))\n",
        "m = int(input(\"Enter integer 2: \"))\n",
        "\n",
        "# make the function call and collect returns\n",
        "result = is_divisible(n, m) # stores function boolean value in another variable\n",
        "\n",
        "if(result == True):\n",
        "  print(n, \"is divisible by\", m)\n",
        "else:\n",
        "  print(n, \"is not divisible by\", m)"
      ],
      "execution_count": 47,
      "outputs": [
        {
          "output_type": "stream",
          "text": [
            "Enter integer 1: 9\n",
            "Enter integer 2: 3\n",
            "9 is divisible by 3\n"
          ],
          "name": "stdout"
        }
      ]
    },
    {
      "cell_type": "markdown",
      "metadata": {
        "id": "oPk1SSdLMZUU"
      },
      "source": [
        "# Exercise 4"
      ]
    },
    {
      "cell_type": "markdown",
      "metadata": {
        "id": "72D0-P6dS8xE"
      },
      "source": [
        "Write a program that uses two functions one called is_divisible and the other called is_divisible23n8()\n",
        "\n",
        "The function is_divisible() is the same as in the previous questions so you can use it from one of your previous cells.\n",
        "\n",
        "The function is_divisible23n8 has one input parameter, an integer. It should return string “yes” if the given number is divisible by 2 or 3 but NOT 8. Otherwise it should return a string “no”. Your function  is_divisible23n8 must use (make a call to) is_divisible()\n",
        "\n",
        "Outside of that function, your program should interact with the user to get one integer. It should call is_divisible23n8  function to deterimen if the number the user gave is divisible by 2 or 3 but not 8. It should print a message explaining the result.\n"
      ]
    },
    {
      "cell_type": "code",
      "metadata": {
        "id": "IMgOQQ18THSg"
      },
      "source": [
        "### Implement your function here ###\n",
        "\n",
        "# function 1 stores a boolean value\n",
        "def is_divisible(n, m):\n",
        "  ''' (int, int) -> boolean\n",
        "      Returns true if n is divisible by m, False otherwise.\n",
        "  ''' \n",
        "  if(m == 0): # cannot divide by 0\n",
        "    return False\n",
        "  elif(n%m == 0):\n",
        "    return True\n",
        "  else:\n",
        "    return False\n",
        "\n",
        "# function 2 stores a \"Yes\" or \"No\"\n",
        "def is_divisible23n8(o):\n",
        "  # Function 1 is called in function 2\n",
        "  if ((is_divisible(o, 2) == True) or (is_divisible(o, 3) == True)) and (is_divisible(o, 8) == False):\n",
        "    return \"Yes\"\n",
        "  else:\n",
        "    return \"No\""
      ],
      "execution_count": 49,
      "outputs": []
    },
    {
      "cell_type": "code",
      "metadata": {
        "id": "RhizjNAxTHSj",
        "colab": {
          "base_uri": "https://localhost:8080/"
        },
        "outputId": "b922dbdd-9eb6-4a21-d283-21b11b3fb910"
      },
      "source": [
        "### Start your program here ###\n",
        "\n",
        "# gather inputs\n",
        "o = int(input(\"Enter integer: \"))\n",
        "\n",
        "# make the function call and collect returns\n",
        "result = is_divisible23n8(o) # storing function 2 value in variable\n",
        "\n",
        "# display the result\n",
        "if(result == \"Yes\"):\n",
        "  print(o, \"is divisible by 2 or 3, but not by 8\")\n",
        "elif(result == \"No\"):\n",
        "  print(\"It is not true that\", o, \"is divisible by 2 and 3, but not by 8\")"
      ],
      "execution_count": 50,
      "outputs": [
        {
          "output_type": "stream",
          "text": [
            "Enter integer: 56\n",
            "It is not true that 56 is divisible by 2 and 3, but not by 8\n"
          ],
          "name": "stdout"
        }
      ]
    }
  ]
}