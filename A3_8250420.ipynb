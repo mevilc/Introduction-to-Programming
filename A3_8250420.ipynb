{
  "nbformat": 4,
  "nbformat_minor": 0,
  "metadata": {
    "celltoolbar": "Raw Cell Format",
    "colab": {
      "name": "A3_8250420.ipynb",
      "provenance": [],
      "collapsed_sections": [
        "3_WW5gzQdAKm",
        "-WpbbbKFIVrM",
        "jciHbDiRJH8G",
        "73RKnfZXJIqG",
        "9KbJLUtNdAK_",
        "oPk1SSdLMZUU",
        "sUJFvWgRdALV",
        "fW0G2TpqdALZ",
        "u6yM_qfeMfgw"
      ]
    },
    "kernelspec": {
      "display_name": "Python 3",
      "language": "python",
      "name": "python3"
    },
    "language_info": {
      "codemirror_mode": {
        "name": "ipython",
        "version": 3
      },
      "file_extension": ".py",
      "mimetype": "text/x-python",
      "name": "python",
      "nbconvert_exporter": "python",
      "pygments_lexer": "ipython3",
      "version": "3.7.4"
    }
  },
  "cells": [
    {
      "cell_type": "markdown",
      "metadata": {
        "id": "GrAKu-PaMM4R"
      },
      "source": [
        "# Course:  ITI1120E\n",
        "# Assignment Number: 03\n",
        " \n",
        "# Due Date: <font color='red'>Wednesday, March 24, 2021 11:30 PM"
      ]
    },
    {
      "cell_type": "markdown",
      "metadata": {
        "id": "3_WW5gzQdAKm"
      },
      "source": [
        "## Student Name (Last, First): Crasta, Mevil \n",
        "\n",
        "## Student Number: 8250420\n"
      ]
    },
    {
      "cell_type": "markdown",
      "metadata": {
        "id": "gKEGOjdcdAKp"
      },
      "source": [
        "<font color='red'>\n",
        "    \n",
        "### Instructions: <font color='blue'> (Refer to assignment PDF copy for full instructions) <font>\n",
        "***\n",
        "  \n",
        "**Marks will be deducted if assignments instructions not followed; to enforce compliance and making the assignment correction process efficient and effective** \n",
        "***\n",
        "\n",
        "<font color='green'>\n",
        "\n",
        "1. Write your full name and student number in the first cell above (double click to edit).\n",
        "* Do NOT submit assignment solution file in zip format.\n",
        "* Do NOT change the questions order.\n",
        "* Use the provided function names (on top of each solution cell to develop your solution) and the testing command examples (below each solution cell to test your solution).\n",
        "* Do NOT delete the provided testing command examples below each solution cell.\n",
        "* Test that your notebook file is functioning without loading or opening errors.\n",
        "* Pay attention to each question in details and understand well.\n",
        "* Provide complete and meaningful docstrings for each function you develop, docstring must include: type contract, function description, including parameter names,preconditions if any.\n",
        "    \n"
      ]
    },
    {
      "cell_type": "markdown",
      "metadata": {
        "id": "-WpbbbKFIVrM"
      },
      "source": [
        "## Question #1: <font color='red'>(10 marks)</font>\n",
        "Write a function called find_max that takes a two dimensional list as a parameter and returns the number of the row that sums to the greatest value. For example if you had the following list of lists:\n",
        "list = [[1, 2, 3], [2, 3, 3], [1, 3, 3]]\n",
        " The first row would be 6, the second 8 and the third 7. The function would therefore return 1. \n",
        "You can assume the passed in list of lists has at least one row and one column. You cannot assume that it is square.\n"
      ]
    },
    {
      "cell_type": "code",
      "metadata": {
        "id": "aCDoXul3dAKt"
      },
      "source": [
        "##########################\n",
        "# Question 1 Solution\n",
        "##########################\n",
        "def find_max(lis):\n",
        "  '''(list)->int\n",
        "  Returns the index of the max sum row in lis. \n",
        "  Precondition: lis containts lists with atleast \n",
        "  one row and one col. '''\n",
        "\n",
        "  max_index=0\n",
        "  max_row_sum=float(\"-inf\")\n",
        "  for rows in range(len(lis)):\n",
        "    sum=0\n",
        "    for cols in range(len(lis[0])):\n",
        "      sum+=lis[rows][cols]\n",
        "    if sum > max_row_sum:\n",
        "      max_row_sum=sum\n",
        "      max_index=rows\n",
        "  return max_index"
      ],
      "execution_count": 1,
      "outputs": []
    },
    {
      "cell_type": "code",
      "metadata": {
        "id": "ZPqmQU1gdAKv",
        "colab": {
          "base_uri": "https://localhost:8080/"
        },
        "outputId": "d21cdb0d-fb50-43ac-d813-1df5b029e424"
      },
      "source": [
        "### Question 1 Solution ~ test command ###\n",
        "find_max([[1, 2, 3], [2, 3, 3], [1, 3, 3]])"
      ],
      "execution_count": 2,
      "outputs": [
        {
          "output_type": "execute_result",
          "data": {
            "text/plain": [
              "1"
            ]
          },
          "metadata": {
            "tags": []
          },
          "execution_count": 2
        }
      ]
    },
    {
      "cell_type": "code",
      "metadata": {
        "id": "ING5Nv--dAKx",
        "colab": {
          "base_uri": "https://localhost:8080/"
        },
        "outputId": "83768fad-c05e-4669-e949-6c5153a7a7f1"
      },
      "source": [
        "### Question 1 Solution ~ 2nd test command ###\n",
        "find_max([[1, 2, 3], [2, 3, 3], [1, 3, 3]])"
      ],
      "execution_count": 3,
      "outputs": [
        {
          "output_type": "execute_result",
          "data": {
            "text/plain": [
              "1"
            ]
          },
          "metadata": {
            "tags": []
          },
          "execution_count": 3
        }
      ]
    },
    {
      "cell_type": "markdown",
      "metadata": {
        "id": "jciHbDiRJH8G"
      },
      "source": [
        "## Question #2: <font color='red'>(10 marks)</font>\n",
        "\n",
        "Write a static method called encode that takes a string s and an integer n as parameters and that returns a new string that scrambles the order of the characters from s in a particular way.  Taking the characters from s in order, imagine filling a grid of n rows column by column.  When s is \"abcdefghijklmnopqrstuvwxyz\" and n is 3, you get:\n",
        "\n",
        "        row 1:       a d g j m p s v y\n",
        "        row 2:       b e h k n q t w z\n",
        "        row 3:       c f i l o r u x\n",
        "\n",
        "The method should return the result of concatenating these characters together with row 1 first, then row 2, and then row 3.  Notice that the final column will not necessarily be complete, as in the example above where the final column has only two characters.  So if you make the call:\n",
        "\n",
        "        encode(\"abcdefghijklmnopqrstuvwxyz\", 3)\n",
        "\n",
        "    You should get back the string \"adgjmpsvybehknqtwzcfilorux\".  The string might contain any characters, including spaces.  For example, the call:\n",
        "\n",
        "        encode(\"four score and seven\", 4)\n",
        "\n",
        "    returns \"f rneosedvuc eroasn\" because the following grid would be produced:\n",
        "\n",
        "        row 1:       f   r n e\n",
        "        row 2:       o s e d v\n",
        "        row 3:       u c     e\n",
        "        row 4:       r o a s n\n",
        "\n",
        "   You may assume that the string passed as a parameter is not empty and that the integer passed as a parameter is greater than or equal to 1 and less than the length of the string.  You are not allowed to construct any structured objects other than strings to solve this problem (no list,   list of lists, etc).\n",
        "Sample Run\n",
        "encode(\"abcdefghijklmnopqrstuvwxyz\", 3)\n",
        "> ‘adgjmpsvybehknqtwzcfilorux’\n",
        "encode(\"four score and seven\", 4)\n",
        "> ‘f rneosedvuc  eroasn’\n",
        "\n"
      ]
    },
    {
      "cell_type": "code",
      "metadata": {
        "id": "7O0424hddAK1"
      },
      "source": [
        "##########################\n",
        "# Question 2 Solution\n",
        "##########################\n",
        "def encode(s, n):\n",
        "  '''(str,int) -> str\n",
        "  Returns a scrambled string that is formed\n",
        "  by ordering s into n columns. \n",
        "  Precondition: len(str)!=0 and n>=1 and n>len(str)'''\n",
        "\n",
        "  new_string=''\n",
        "  for cols in range(n):\n",
        "    for elem in range(cols,len(s),n):\n",
        "      new_string+=s[elem]\n",
        "  return new_string"
      ],
      "execution_count": 4,
      "outputs": []
    },
    {
      "cell_type": "code",
      "metadata": {
        "id": "FmEQnBvndAK2",
        "colab": {
          "base_uri": "https://localhost:8080/",
          "height": 0
        },
        "outputId": "535f8502-4b20-4e7e-e990-79ca39e61423"
      },
      "source": [
        "### Question 2 Solution ~ 1st test command ###\n",
        "encode(\"abcdefghijklmnopqrstuvwxyz\", 3)"
      ],
      "execution_count": 5,
      "outputs": [
        {
          "output_type": "execute_result",
          "data": {
            "application/vnd.google.colaboratory.intrinsic+json": {
              "type": "string"
            },
            "text/plain": [
              "'adgjmpsvybehknqtwzcfilorux'"
            ]
          },
          "metadata": {
            "tags": []
          },
          "execution_count": 5
        }
      ]
    },
    {
      "cell_type": "code",
      "metadata": {
        "id": "01or1umqdAK3",
        "colab": {
          "base_uri": "https://localhost:8080/",
          "height": 0
        },
        "outputId": "7acebd56-3592-4262-f001-273cf31e95cf"
      },
      "source": [
        "### Question 2 Solution ~ 2nd test command ###\n",
        "encode(\"four score and seven\", 4)"
      ],
      "execution_count": 6,
      "outputs": [
        {
          "output_type": "execute_result",
          "data": {
            "application/vnd.google.colaboratory.intrinsic+json": {
              "type": "string"
            },
            "text/plain": [
              "'f rneosedvuc  eroasn'"
            ]
          },
          "metadata": {
            "tags": []
          },
          "execution_count": 6
        }
      ]
    },
    {
      "cell_type": "markdown",
      "metadata": {
        "id": "73RKnfZXJIqG"
      },
      "source": [
        "## Question #3: <font color='red'>(10 marks)</font>\n",
        "\n",
        "Write a function named **zero_out( )** that perform the following:\n",
        "\n",
        "1. The function should accepts two lists of integers a1 and a2 as parameters and replaces any occurrences of a2 in a1 with zeroes. \n",
        "* The sequence of elements in a2 may appear anywhere in a1 but must appear consecutively and in the same order.\n",
        "* For example, if variables called a1 and a2 store the following values:\n",
        " * a1 = [1, 2, 3, 4, 1, 2, 3, 4, 5].\n",
        " * a2 = [2, 3, 4].\n",
        " * The call of zero_out(a1, a2) should modify a1's contents to be [1, 0, 0, 0, 1, 0, 0, 0, 5].\n",
        "* You may assume that both lists passed to your function will have lengths of at least 1. \n",
        "* If a2 is not found in a1, or if a1's length is shorter than a2's, then a1 is not modified when calling your function. \n",
        "* Do not return new list when a1's contents are being modified in place.\n",
        "* Do not modify the contents of a2.\n",
        "* Note that the pattern can occur many times, even consecutively. For  example, the following two lists a1 and a2:\n",
        " * a1 = [5, 5, 5, 18, 5, 42, 5, 5, 5, 5], \n",
        " * a2 = [5, 5]. \n",
        " * The call of zero_out(a1, a2) should modify a3's contents to be [0, 0, 5, 18, 5, 42, 0, 0, 0, 0].\n",
        "\n",
        "\n"
      ]
    },
    {
      "cell_type": "code",
      "metadata": {
        "id": "zShp6zxxdAK8"
      },
      "source": [
        "##########################\n",
        "# Question 3 Solution\n",
        "##########################\n",
        "def zero_out(a1,a2):\n",
        "  '''(list,list) -> list\n",
        "  Returns a list with all occurences of a2 in a1 \n",
        "  replaced with 0's.\n",
        "  Precondition: len(a1) and len(a2) >= 1\n",
        "  '''\n",
        "\n",
        "  # Looping through a1 to see if the first element in a2 is found in a1\n",
        "  for i in range(len(a1)):\n",
        "    if a1[i] == a2[0]: # Checking if each elem of a1 == a2\n",
        "\n",
        "      # If first element of a2 is found in a1, keep track\n",
        "      # of the next element of a1 to compare to next element of a2.\n",
        "      elem_num = i + 1 \n",
        "      count = 1 # Count tracks how many elements consecutively match the pattern\n",
        "\n",
        "      if (len(a1) - i) >= len(a2): \n",
        "\n",
        "        # This loop checks if the elements after a1[i] follow the a2 pattern\n",
        "        for j in range(1,len(a2)):\n",
        "          if a1[elem_num] == a2[j]:\n",
        "            count += 1\n",
        "            elem_num += 1\n",
        "        \n",
        "        if count == len(a2):\n",
        "          a1[i] = 0\n",
        "          for k in range(1, count):\n",
        "            a1[i+k] = 0\n",
        "  return a1"
      ],
      "execution_count": 7,
      "outputs": []
    },
    {
      "cell_type": "code",
      "metadata": {
        "id": "_pD7-RBZdAK9",
        "colab": {
          "base_uri": "https://localhost:8080/"
        },
        "outputId": "0b7d6b4b-b2e6-4988-c2c5-291179185bc1"
      },
      "source": [
        "### Question 3 Solution ~ 1st test command ###\n",
        "zero_out([1, 2, 3, 4, 1, 2, 3, 4, 5],[2, 3, 4])"
      ],
      "execution_count": 8,
      "outputs": [
        {
          "output_type": "execute_result",
          "data": {
            "text/plain": [
              "[1, 0, 0, 0, 1, 0, 0, 0, 5]"
            ]
          },
          "metadata": {
            "tags": []
          },
          "execution_count": 8
        }
      ]
    },
    {
      "cell_type": "code",
      "metadata": {
        "id": "lmcJuMLMdAK-",
        "colab": {
          "base_uri": "https://localhost:8080/"
        },
        "outputId": "4d59772f-e42e-4d20-b27d-57a72d5975c8"
      },
      "source": [
        "### Question 3 Solution ~ 2nd test command ###\n",
        "zero_out([5, 5, 5, 18, 5, 42, 5, 5, 5, 5], [5, 5])"
      ],
      "execution_count": 9,
      "outputs": [
        {
          "output_type": "execute_result",
          "data": {
            "text/plain": [
              "[0, 0, 5, 18, 5, 42, 0, 0, 0, 0]"
            ]
          },
          "metadata": {
            "tags": []
          },
          "execution_count": 9
        }
      ]
    },
    {
      "cell_type": "markdown",
      "metadata": {
        "id": "9KbJLUtNdAK_"
      },
      "source": [
        "## Question #4: <font color='red'>(10 marks)</font>\n",
        "\n",
        "Write a function **coin_flip( )** that perform the following:\n",
        "1. Accepts an input file name as its parameter. \n",
        "* Assume that the input file data represents results of sets of coin flips that are either heads (H) or tails (T) in either upper or lower case, without any space. \n",
        "* Your function should consider each line to be a separate set of coin flips and should output the number of heads and the percentage of heads in that line, rounded to the nearest tenth. \n",
        "* You may assume that input file contains at least 1 line of input, that each line contains at least one token, and that no tokens other than h, H, t, or T will be in the lines.\n",
        "* If the percentage is more than 50%, you should print a \"You win\" message. \n",
        "* For example, consider the following input file: \n",
        " * HTHHT\n",
        " * TttThH\t\n",
        " * h\n",
        "* For the above input, your function should produce the following output:\n",
        " * 3 heads (60.0%) <br>\n",
        "   You win!\n",
        " * 2 heads (33.3%)\n",
        " * 1 heads (100.0%)<br>\n",
        "   You win!\n"
      ]
    },
    {
      "cell_type": "code",
      "metadata": {
        "colab": {
          "base_uri": "https://localhost:8080/"
        },
        "id": "3eJji-I2QznR",
        "outputId": "a2c8ad98-1e65-4602-d1f2-64b625f5fcb2"
      },
      "source": [
        "from google.colab import drive\n",
        "drive.mount('/content/drive')"
      ],
      "execution_count": 1,
      "outputs": [
        {
          "output_type": "stream",
          "text": [
            "Mounted at /content/drive\n"
          ],
          "name": "stdout"
        }
      ]
    },
    {
      "cell_type": "code",
      "metadata": {
        "id": "eDKlfbgIdALC"
      },
      "source": [
        "##########################\n",
        "# Question 4 Solution\n",
        "##########################\n",
        "def coin_flip(flip_results):\n",
        "  '''(None)->None\n",
        "  Prints the number of times heads were\n",
        "  won and their percentage.\n",
        "\n",
        "  Precondition: File has atleast one line of\n",
        "  input. '''\n",
        "\n",
        "  data_path='/content/drive/My Drive/ITI1120/Assignment3/'\n",
        "  file_open=open(data_path+flip_results).read().splitlines()\n",
        "\n",
        "  for elem in file_open:\n",
        "    h_count=0\n",
        "    for i in range(len(elem)):\n",
        "      if elem[i]==\"H\" or elem[i]==\"h\":\n",
        "        h_count+=1\n",
        "    percentage=round((h_count/len(elem))*100,3)\n",
        "    print(str(h_count)+\" heads (\"+str(percentage)+\"%)\")\n",
        "    if percentage > 50:\n",
        "      print(\"You win!\")"
      ],
      "execution_count": 3,
      "outputs": []
    },
    {
      "cell_type": "code",
      "metadata": {
        "id": "wqutcxexdALE",
        "colab": {
          "base_uri": "https://localhost:8080/"
        },
        "outputId": "7004e8f1-4d46-4e1d-b31e-34bd36105cc4"
      },
      "source": [
        "### Question 4 Solution ~ test command ###\n",
        "coin_flip('flip_results.txt')"
      ],
      "execution_count": 4,
      "outputs": [
        {
          "output_type": "stream",
          "text": [
            "3 heads (60.0%)\n",
            "You win!\n",
            "2 heads (33.333%)\n",
            "1 heads (100.0%)\n",
            "You win!\n"
          ],
          "name": "stdout"
        }
      ]
    },
    {
      "cell_type": "markdown",
      "metadata": {
        "id": "ZyzanFokMfbK"
      },
      "source": [
        "## Question #5: <font color='red'>(10 marks)</font>\n",
        "\n",
        "Write a function **run( )** which is a sequence of adjacent repeated values that generates a sequence of 20 random die tosses in a list and that prints the die values, marking the runs by including them in parentheses, like this:<br>\n",
        "* 1 2 (5 5) 3 1 2 4 3 (2 2 2 2) 3 6 (5 5) 6 3 1<br>\n",
        "<br>\n",
        "Hint: you can use the random integer \"randint\" module in your solution"
      ]
    },
    {
      "cell_type": "code",
      "metadata": {
        "id": "Gs6QC9-JOywu"
      },
      "source": [
        "##########################\n",
        "# Question 5 Solution\n",
        "##########################\n",
        "\n",
        "import random\n",
        "\n",
        "def run():\n",
        "  '''(None)-> None\n",
        "  Returns a random sequence of 20 numbers, with\n",
        "  similar occurences grouped together. '''\n",
        "\n",
        "  lst = []\n",
        "  for i in range(20):\n",
        "    lst.append(random.randint(1,6))\n",
        "  print(lst)\n",
        "  new_list = []\n",
        "  i = 0\n",
        "  while i < (len(lst)-1):\n",
        "    if lst[i] != lst[i+1]:\n",
        "      new_list.append(lst[i])\n",
        "      i+=1\n",
        "    elif lst[i] == lst[i+1]:\n",
        "      j = i\n",
        "      i +=1\n",
        "      new_list.append(\"(\")\n",
        "      new_list.append(lst[j])\n",
        "      while (lst[j] == lst[j+1]):\n",
        "        new_list.append(lst[j+1])\n",
        "        i+=1\n",
        "        j += 1\n",
        "        if (j+1 == len(lst)):\n",
        "          break\n",
        "        new_list.append(\")\")\n",
        "  \n",
        "  for elem in new_list:\n",
        "    print(elem,end=\"\")"
      ],
      "execution_count": 43,
      "outputs": []
    },
    {
      "cell_type": "code",
      "metadata": {
        "id": "HTUoRzECdALK",
        "colab": {
          "base_uri": "https://localhost:8080/"
        },
        "outputId": "b4e90643-5d0b-4a2f-db70-db952c4eabfb"
      },
      "source": [
        "### Question 5 Solution ~ test command ###\n",
        "run()"
      ],
      "execution_count": 44,
      "outputs": [
        {
          "output_type": "stream",
          "text": [
            "[1, 3, 4, 6, 2, 1, 6, 2, 6, 4, 6, 5, 6, 3, 2, 3, 3, 2, 3, 6]\n",
            "134621626465632(33)23"
          ],
          "name": "stdout"
        }
      ]
    },
    {
      "cell_type": "markdown",
      "metadata": {
        "id": "oPk1SSdLMZUU"
      },
      "source": [
        "# Question # 6: <font color='red'>(10 marks)</font>\n",
        "\n",
        "Write a function called **is_all_odd** that takes a list of lists as a parameter and returns True if all of the integer elements of the lists are odd. <br>\n",
        "For example, if you test the following list of lists, calling **is_all_odd(lis)** should return True:<br>\n",
        "lis =[[3, 21, 9], [15, 19, 7, 13], [1, 61, 93]])<br>\n",
        "Also, If an empty list is passed to your function it should return True as well.\n"
      ]
    },
    {
      "cell_type": "code",
      "metadata": {
        "id": "PVE-ToN-dALO"
      },
      "source": [
        "##########################\n",
        "# Question 6 Solution\n",
        "##########################\n",
        "def is_all_odd(lis):\n",
        "  '''(List)->Bool\n",
        "  Returns True if all elements in lis\n",
        "  are odd. False otherwise. '''\n",
        "\n",
        "  if len(lis)==0: # if empty list, return True\n",
        "    return True\n",
        "\n",
        "  odd_count=0 # keep tracks odd #'s\n",
        "  num_of_elem=0 # keeps track total # of elements\n",
        "  for rows in range(len(lis)): \n",
        "    for cols in range(len(lis[rows])): \n",
        "      num_of_elem+=1 \n",
        "      if lis[rows][cols]%2!=0: # checks if # is odd\n",
        "        odd_count+=1\n",
        "  return odd_count==num_of_elem"
      ],
      "execution_count": 6,
      "outputs": []
    },
    {
      "cell_type": "code",
      "metadata": {
        "id": "beoylNA-dALQ",
        "colab": {
          "base_uri": "https://localhost:8080/"
        },
        "outputId": "ae95923a-4dad-4378-ba6e-eae1c752101a"
      },
      "source": [
        "### Question 6 Solution ~ 1st test command ###\n",
        "is_all_odd([[3, 21, 9], [15, 19, 7, 13], [1, 61, 93]])"
      ],
      "execution_count": 7,
      "outputs": [
        {
          "output_type": "execute_result",
          "data": {
            "text/plain": [
              "True"
            ]
          },
          "metadata": {
            "tags": []
          },
          "execution_count": 7
        }
      ]
    },
    {
      "cell_type": "code",
      "metadata": {
        "id": "Ufi9wdV2dALS",
        "colab": {
          "base_uri": "https://localhost:8080/"
        },
        "outputId": "3d56a28b-8b26-4925-c782-368a66bab899"
      },
      "source": [
        "### Question 6 Solution ~ 2nd test command ###\n",
        "is_all_odd([])"
      ],
      "execution_count": 8,
      "outputs": [
        {
          "output_type": "execute_result",
          "data": {
            "text/plain": [
              "True"
            ]
          },
          "metadata": {
            "tags": []
          },
          "execution_count": 8
        }
      ]
    },
    {
      "cell_type": "markdown",
      "metadata": {
        "id": "sUJFvWgRdALV"
      },
      "source": [
        "# Question # 7: <font color='red'>(10 marks)</font>\n",
        "\n",
        "Write a function **range_diff( )** perform the following:\n",
        "1. Accepts a list of lists as a parameter and returns the range of values contained in the list of lists, which is defined as the difference between the largest and smallest elements + 1. <br>\n",
        " * For example, if a variable called **L** stores the following values: <br>\n",
        "[[18, 14, 29], [12, 7, 25], [2, 22, 5]] <br>\n",
        "<br>\n",
        " * The call of **range_diff(L)** should return 28, because the largest difference between any pair of values+1: (29 - 2 + 1 = 28). <br>\n",
        " <br>\n",
        "* Do not make any assumptions about the range of numbers in  the list of lists. \n",
        "* Do not alter the list. \n",
        "* Do not create any other data structures.\n",
        "* An empty list is defined to have a range of 0. "
      ]
    },
    {
      "cell_type": "code",
      "metadata": {
        "id": "mKFwzl63dALX"
      },
      "source": [
        "##########################\n",
        "# Question 7 Solution\n",
        "##########################\n",
        "def range_diff(lis):\n",
        "  '''(List)->int\n",
        "  Returns the difference between the max\n",
        "  and min element in lis + 1. '''\n",
        "\n",
        "  if len(lis)==0:\n",
        "    return 0\n",
        "\n",
        "  max_elem=max(lis[0]) # set min and max as the first elem\n",
        "  min_elem=min(lis[0])\n",
        "  for rows in range(1,len(lis)):\n",
        "    if max(lis[rows])>max_elem:\n",
        "      max_elem=max(lis[rows])\n",
        "    if min(lis[rows])<min_elem:\n",
        "      min_elem=min(lis[rows])\n",
        "  return max_elem-min_elem+1"
      ],
      "execution_count": 8,
      "outputs": []
    },
    {
      "cell_type": "code",
      "metadata": {
        "id": "V86X4ylmdALY",
        "colab": {
          "base_uri": "https://localhost:8080/"
        },
        "outputId": "e595396b-b971-4ba2-e137-e341c56dd549"
      },
      "source": [
        "### Question 7 Solution ~ 1st test command ###\n",
        "range_diff([[18, 14, 29], [12, 7, 25], [2, 22, 5]])"
      ],
      "execution_count": 9,
      "outputs": [
        {
          "output_type": "execute_result",
          "data": {
            "text/plain": [
              "28"
            ]
          },
          "metadata": {
            "tags": []
          },
          "execution_count": 9
        }
      ]
    },
    {
      "cell_type": "code",
      "metadata": {
        "colab": {
          "base_uri": "https://localhost:8080/"
        },
        "id": "wN7bg7lB8-FJ",
        "outputId": "df066ea7-6c38-41dc-a6f4-52f872b9e8ba"
      },
      "source": [
        "range_diff([])"
      ],
      "execution_count": 10,
      "outputs": [
        {
          "output_type": "execute_result",
          "data": {
            "text/plain": [
              "0"
            ]
          },
          "metadata": {
            "tags": []
          },
          "execution_count": 10
        }
      ]
    },
    {
      "cell_type": "markdown",
      "metadata": {
        "id": "fW0G2TpqdALZ"
      },
      "source": [
        "# Question # 8: <font color='red'>(15 marks)</font>\n",
        "\n",
        "Write a function called **coupon_collector( )** whcih perform the following:\n",
        "1. Simulate solution for the coupon collector, which is a classic statistics problem with many practical applications:\n",
        "* The problem is to pick  objects from a set of objects repeatedly and find out how many picks are needed for all the objects to be picked at least once. \n",
        "* A variation of the problem is to pick cards from a shuffled deck of 52 cards repeatedly and find out how many picks are needed before you see one of each suit. \n",
        "* Assume a picked card is placed back in the deck before picking another.\n",
        "* number of picks needed to get four cards, one from each suit and display the four cards picked (it is possible a card may be picked twice)\n",
        "* Hint: you can use the random integer \"randint\" module in your solution"
      ]
    },
    {
      "cell_type": "code",
      "metadata": {
        "id": "PCayHvmpdALa",
        "colab": {
          "base_uri": "https://localhost:8080/"
        },
        "outputId": "598348a3-47be-448d-941f-fca59956b07d"
      },
      "source": [
        "##########################\n",
        "# Question 8 Solution\n",
        "##########################\n",
        "import random\n",
        "\n",
        "def coupon_collector():\n",
        "  '''(None)->None\n",
        "  Prints the number of picks needed to pick\n",
        "  out one suit each, and print what cards\n",
        "  are picked. '''\n",
        "\n",
        "  cards=[\"ace\",2,3,4,5,6,7,8,9,10,\"jack\",\"queen\",\"king\"] # setting up the card numbers\n",
        "  suite=[\"spades\",\"clubs\",\"diamonds\",\"hearts\"] \n",
        "  pick_count=1 # tracks total # of picks\n",
        "\n",
        "  # False means none of each suite is found yet. Turns True once one of either is found.\n",
        "  spade_flag, club_flag, diamond_flag, hearts_flag = False, False, False, False\n",
        "  final_list=[] # keeps a list of each unique suit card picked\n",
        "\n",
        "  while (spade_flag and club_flag and diamond_flag and hearts_flag) == False:\n",
        "    pick_count+=1\n",
        "\n",
        "    # randomly generate a card number and suite\n",
        "    num_pick=cards[random.randint(0,12)]\n",
        "    suite_pick=suite[random.randint(0,3)] \n",
        "\n",
        "    if suite_pick==\"spades\":\n",
        "      if spade_flag==False: # ensures that no two cards of the same suit are in the list\n",
        "        final_list.append(str(num_pick)+\" of spades\") # add suite to list\n",
        "        spade_flag=True # turns True, since the suite if found\n",
        "    elif suite_pick==\"clubs\":\n",
        "      if club_flag==False:\n",
        "        final_list.append(str(num_pick)+\" of clubs\")\n",
        "        club_flag=True\n",
        "    elif suite_pick==\"diamonds\":\n",
        "      if diamond_flag==False:\n",
        "        final_list.append(str(num_pick)+\" of diamonds\")\n",
        "        diamond_flag=True\n",
        "    elif suite_pick==\"hearts\":\n",
        "      if hearts_flag==False:\n",
        "        final_list.append(str(num_pick)+\" of hearts\")\n",
        "        hearts_flag=True\n",
        "\n",
        "  for i in range(4): # loops though list to print each picked card\n",
        "    print(final_list[i])\n",
        "  print(\"Number of picks: \", pick_count)\n",
        "\n",
        "coupon_collector()"
      ],
      "execution_count": 65,
      "outputs": [
        {
          "output_type": "stream",
          "text": [
            "10 of clubs\n",
            "9 of hearts\n",
            "ace of diamonds\n",
            "5 of spades\n",
            "Number of picks:  8\n"
          ],
          "name": "stdout"
        }
      ]
    },
    {
      "cell_type": "markdown",
      "metadata": {
        "id": "u6yM_qfeMfgw"
      },
      "source": [
        "# Question #9: <font color='red'>(15 marks)</font>\n",
        "\n",
        "Write a **hangman_game( )** that randomly generates a word and prompts the user to guess one letter at a time, as shown in the sample run. \n",
        "1. Each letter in the word is displayed as an asterisk. \n",
        "* When the user makes a correct guess, the actual letter is then displayed. \n",
        "* When the user finishes a word, display the number of misses and ask the user whether to continue playing. \n",
        "* Create a list to store the words, as follows:\n",
        "\n",
        "words = [\"write\", \"program\", \"that\", \"receive\", \"positive\", \"change\", \"study\", \"excellent\", \"nice\"]\n",
        "\n",
        "* For example, running the program should show the following output:\n",
        "\n",
        "![image.png](attachment:image.png)\n"
      ]
    },
    {
      "cell_type": "code",
      "metadata": {
        "id": "TvXiGEcddALf",
        "colab": {
          "base_uri": "https://localhost:8080/"
        },
        "outputId": "61e7f0b8-3a78-40a4-b8bc-14fd11e46af3"
      },
      "source": [
        "##########################\n",
        "# Question 9 Solution\n",
        "##########################\n",
        "import random\n",
        "\n",
        "def hangman_game():\n",
        "  '''(None)->None\n",
        "  Asks the user to guess each character in a \n",
        "  randomly generated word. Once all characters \n",
        "  are guessed,the word is displayed and the # \n",
        "  of misses is reported. '''\n",
        "\n",
        "  words=[\"write\", \"program\", \"that\", \"receive\", \"positive\", \"change\", \"study\", \"excellent\", \"nice\"]\n",
        "  word_choice=words[random.randint(0,8)] # randomly choose a word\n",
        "  word_flag=False\n",
        "  word_list=[] # stores the correct guesses in order, by replacing the \"*\"\n",
        "  repeated_let=[] # tracks guesses used more than once\n",
        "  correct_guess,misses=0,0\n",
        "\n",
        "  # makes a list with \"*\" with the size of the word\n",
        "  for i in range(len(word_choice)):\n",
        "    word_list.append(\"*\")\n",
        "  \n",
        "  while word_flag!=True:\n",
        "    # prints question and the \"**.. > \"\n",
        "    print(\"(Guess) Enter a letter in word\\n\")\n",
        "    for i in word_list:\n",
        "      print(i, end=\"\")\n",
        "    print(\" >\", end=\" \")\n",
        "\n",
        "    # asks user input\n",
        "    user=input()\n",
        "\n",
        "    # if letter guessed shows up only once in word\n",
        "    if word_choice.count(user)==1:\n",
        "      correct_guess+=1 # tracks the correct guess\n",
        "      if user in repeated_let: # checks if guessed word is guessed again\n",
        "        print(user,\" is already in the word.\")\n",
        "        correct_guess-=1 # if guess is repeated, track one less correct guess\n",
        "      repeated_let.append(user) # add correct guess to list\n",
        "      let_location=word_choice.index(user) # gets the index of the correct letter in word\n",
        "      word_list[let_location]=user # overwrites the \"*\" to the correct letter in the list, and at the proper index\n",
        "    \n",
        "    # if letter guessed shows up more than once in word\n",
        "    elif word_choice.count(user)>1:\n",
        "      correct_guess+=word_choice.count(user) # track the number of times the repeated correct letter appears in word\n",
        "      if user in repeated_let: # checks if guessed word is guessed again\n",
        "        print(user,\" is already in the word.\")\n",
        "        correct_guess-=word_choice.count(user)\n",
        "      repeated_let.append(user) # add correct guess to list\n",
        "\n",
        "      # loops through the word to get the index of all occurences of correct guess and replace the \"*\" with the letter\n",
        "      for i in range(len(word_choice)): \n",
        "        if word_choice[i]==user:\n",
        "          let_location=i\n",
        "          word_list[let_location]=user\n",
        "\n",
        "    # if letter guessed not in word\n",
        "    else:\n",
        "      print(user,\"not in word\")\n",
        "      misses+=1 # track wrong guesses\n",
        "\n",
        "    # if correct guess equal word length, the word is guessed\n",
        "    if correct_guess==len(word_choice):\n",
        "      print(\"The word is: \",word_choice,\".\",end=\" \")\n",
        "      print(\"You missed\",misses,\"time.\\n\")\n",
        "      word_flag=True # change flag = True and get out of while loop\n",
        "\n",
        "# another function to ask the user if they want to play again\n",
        "def game_again():\n",
        "  game_again_option=input(\"Do you want to guess another word? Enter y/n \\n\")\n",
        "  if game_again_option==\"y\":\n",
        "    hangman_game() # if user wants to repeat game, then call the function again\n",
        "  elif game_again_option==\"n\":\n",
        "    word_flag=True # if user does not want to repeat, keep flag = True\n",
        "\n",
        "# Function calls\n",
        "hangman_game()\n",
        "game_again()"
      ],
      "execution_count": 137,
      "outputs": [
        {
          "output_type": "stream",
          "text": [
            "word choice:  study\n",
            "(Guess) Enter a letter in word\n",
            "\n",
            "***** > s\n",
            "(Guess) Enter a letter in word\n",
            "\n",
            "s**** > s\n",
            "s  is already in the word.\n",
            "(Guess) Enter a letter in word\n",
            "\n",
            "s**** > t\n",
            "(Guess) Enter a letter in word\n",
            "\n",
            "st*** > t\n",
            "t  is already in the word.\n",
            "(Guess) Enter a letter in word\n",
            "\n",
            "st*** > u\n",
            "(Guess) Enter a letter in word\n",
            "\n",
            "stu** > y\n",
            "(Guess) Enter a letter in word\n",
            "\n",
            "stu*y > d\n",
            "The word is:  study . You missed 0 time.\n",
            "\n",
            "Do you want to guess another word? Enter y/n \n",
            "y\n",
            "word choice:  that\n",
            "(Guess) Enter a letter in word\n",
            "\n",
            "**** > t\n",
            "(Guess) Enter a letter in word\n",
            "\n",
            "t**t > t\n",
            "t  is already in the word.\n",
            "(Guess) Enter a letter in word\n",
            "\n",
            "t**t > h\n",
            "(Guess) Enter a letter in word\n",
            "\n",
            "th*t > g\n",
            "g not in word\n",
            "(Guess) Enter a letter in word\n",
            "\n",
            "th*t > a\n",
            "The word is:  that . You missed 1 time.\n",
            "\n"
          ],
          "name": "stdout"
        }
      ]
    }
  ]
}