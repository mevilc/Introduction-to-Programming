{
  "nbformat": 4,
  "nbformat_minor": 0,
  "metadata": {
    "colab": {
      "name": "Mevil - Lab 10.ipynb",
      "provenance": [],
      "collapsed_sections": []
    },
    "kernelspec": {
      "name": "python3",
      "display_name": "Python 3"
    }
  },
  "cells": [
    {
      "cell_type": "markdown",
      "metadata": {
        "id": "QfUv8UrkIdBn"
      },
      "source": [
        "# Part 1"
      ]
    },
    {
      "cell_type": "markdown",
      "metadata": {
        "id": "0wH6lNiyIfDM"
      },
      "source": [
        "## Exercise 0"
      ]
    },
    {
      "cell_type": "code",
      "metadata": {
        "id": "kXLx8rfaIeii"
      },
      "source": [
        "import math\n",
        "\n",
        "class Point:\n",
        "  '''class that represents a point in the plane'''\n",
        "\n",
        "## exectuting Point(2,3)\n",
        "## 1. creates an object of type point\n",
        "## 2. calls an objects __init__ method\n",
        "## 3. produces an object's memory address\n",
        "\n",
        "## Assigning to a new variable using dot operator\n",
        "## CREATES THAT VARIABLE INSIDE OF THE OBJECT\n",
        "\n",
        "## Variables INSIDE of an object are called INSTANCE variables\n",
        "\n",
        "## __init__ is method that is called to initialize the object (create it and initialize its variables)\n",
        "## the first parameter of method is usually called self\n",
        "## self refers to the object that is being initialized\n",
        "\n",
        "\n",
        "#    constructor\n",
        "#    notice two underscores\n",
        "  def __init__(self, xcoord=0, ycoord=0):\n",
        "    ''' (Point, float, float) -> None\n",
        "    >>> p=Point(2,3)\n",
        "    >>> p.x\n",
        "    >>> 2\n",
        "    >>> p.y\n",
        "    >>> 3\n",
        "\n",
        "    initialize point coordinates to (xcoord, ycoord)'''\n",
        "    self.x = xcoord\n",
        "    self.y = ycoord\n",
        "\n",
        "  def distance(self,p):\n",
        "    '''Returns distance between two points'''\n",
        "    return math.sqrt((self.x-p.x)**2 + (self.y-p.y)**2)\n",
        "\n",
        "  def up(self):\n",
        "    '''Moves point up by 1 unit. '''\n",
        "    self.move(0,1)\n",
        "  \n",
        "  def left(self):\n",
        "    '''Moves left by 1 unit. '''\n",
        "    self.move(-1,0)\n",
        "\n",
        "  def right(self):\n",
        "    '''Moves right by 1 unit. '''\n",
        "    self.move(1,0)\n",
        "\n",
        "  def down(self):\n",
        "    '''Moves point down by 1 unit. '''\n",
        "    self.move(0,-1)\n",
        "\n",
        "  def setx(self, xcoord):\n",
        "    ''' (Point,float)->None\n",
        "    set x coordinate of point to xcoord'''\n",
        "    self.x = xcoord\n",
        "\n",
        "  def sety(self, ycoord):\n",
        "    ''' (Point,float)->None\n",
        "    set y coordinate of point to ycoord'''\n",
        "    self.y = ycoord\n",
        "\n",
        "  def get(self):\n",
        "    '''(Point)->tuple\n",
        "    return a tuple with x and y coordinates of the point'''\n",
        "    return (self.x, self.y)\n",
        "\n",
        "  def move(self, dx, dy):\n",
        "    '''(Point,float,float)->None\n",
        "    change the x and y coordinates by dx and dy'''\n",
        "    self.x += dx\n",
        "    self.y += dy\n",
        "\n",
        "  def __eq__(self, other):\n",
        "    'self == other if they have the same coordinates'\n",
        "    return self.x == other.x and self.y == other.y\n",
        "\n",
        "  def __repr__(self):\n",
        "    'return canonical string representation Point(x, y)'\n",
        "    return 'Point('+str(self.x)+','+str(self.y)+')'\n",
        "\n"
      ],
      "execution_count": 5,
      "outputs": []
    },
    {
      "cell_type": "code",
      "metadata": {
        "colab": {
          "base_uri": "https://localhost:8080/"
        },
        "id": "ivXsuzxX8s47",
        "outputId": "b528cda2-69ca-41a5-8766-33d8acc25a6f"
      },
      "source": [
        "# Part A\n",
        "c=Point(0,1)\n",
        "d=Point(1,0)\n",
        "c.distance(d)"
      ],
      "execution_count": 6,
      "outputs": [
        {
          "output_type": "execute_result",
          "data": {
            "text/plain": [
              "1.4142135623730951"
            ]
          },
          "metadata": {
            "tags": []
          },
          "execution_count": 6
        }
      ]
    },
    {
      "cell_type": "code",
      "metadata": {
        "colab": {
          "base_uri": "https://localhost:8080/"
        },
        "id": "a_wknZbR9xb3",
        "outputId": "15ec9190-7427-4bee-c8e4-2160b2bbc4c1"
      },
      "source": [
        "# Part B\n",
        "a=Point(3,4)\n",
        "a.left()\n",
        "a.get()"
      ],
      "execution_count": 7,
      "outputs": [
        {
          "output_type": "execute_result",
          "data": {
            "text/plain": [
              "(2, 4)"
            ]
          },
          "metadata": {
            "tags": []
          },
          "execution_count": 7
        }
      ]
    },
    {
      "cell_type": "code",
      "metadata": {
        "id": "WFVvf5smtRJr"
      },
      "source": [
        "class Animal:\n",
        "  'represents an animal'\n",
        "\n",
        "  def __init__(self, species='animal', language='make sounds',age=0):\n",
        "    self.spec = species\n",
        "    self.lang = language\n",
        "    self.age = age\n",
        "\n",
        "  def setSpecies(self, species):\n",
        "    'sets the animal species'\n",
        "    self.spec = species\n",
        "\n",
        "  def setLanguage(self, language):\n",
        "    'sets the animal language'\n",
        "    self.lang = language\n",
        "\n",
        "  def speak(self):\n",
        "    'prints a sentence by the animal'\n",
        "    print('I am a', self.spec,'and I', self.lang)\n",
        "  \n",
        "  def getAge(self):\n",
        "    '''the animals age'''\n",
        "    return self.age\n",
        "    "
      ],
      "execution_count": 8,
      "outputs": []
    },
    {
      "cell_type": "code",
      "metadata": {
        "colab": {
          "base_uri": "https://localhost:8080/"
        },
        "id": "-IFBY5CNzagE",
        "outputId": "714e4212-4fb2-47ef-94c0-537b18f4f8b0"
      },
      "source": [
        "# Part C\n",
        "flipper=Animal('dolphin','?',3)\n",
        "flipper.getAge()"
      ],
      "execution_count": 9,
      "outputs": [
        {
          "output_type": "execute_result",
          "data": {
            "text/plain": [
              "3"
            ]
          },
          "metadata": {
            "tags": []
          },
          "execution_count": 9
        }
      ]
    },
    {
      "cell_type": "markdown",
      "metadata": {
        "id": "m_voR7gFItWy"
      },
      "source": [
        "## Exercise 1"
      ]
    },
    {
      "cell_type": "code",
      "metadata": {
        "id": "iyJCnMpJJAG1"
      },
      "source": [
        "class Card:\n",
        "  'represents a playing card'\n",
        "\n",
        "  def __init__(self, rank, suit):\n",
        "    'initialize rank and suit of card'\n",
        "    self.rank = rank\n",
        "    self.suit = suit\n",
        "\n",
        "  def getRank(self):\n",
        "    'return rank'\n",
        "    return self.rank\n",
        "\n",
        "  def getSuit(self):\n",
        "    'return suit'\n",
        "    return self.suit    \n",
        "\n",
        "  def __repr__(self):\n",
        "    'return formal representation'\n",
        "    return 'Card('+self.rank+','+self.suit+')'\n",
        "\n",
        "  def __eq__(self, other):\n",
        "    'self == other if rank and suit are the same'\n",
        "    return self.rank == other.rank and self.suit == other.suit\n",
        "\n",
        "\n",
        "### Complete the following ###\n",
        "  def __lt__(self, other):\n",
        "    'self < other if rank of self < rank of other'\n",
        "    return self.rank<other.rank\n",
        "\n",
        "\n",
        "  def __gt__(self, other):\n",
        "    'self > other if rank of self > rank of other'\n",
        "    return self.rank>other.rank\n",
        "\n",
        "\n",
        "  def __le__(self, other):\n",
        "    'self <= other if rank of self <= rank of other'\n",
        "    return self.rank<=other.rank\n",
        "\n",
        "\n",
        "  def __ge__(self, other):\n",
        "    'self >= other if rank of self >= rank of other'\n",
        "    return self.rank>=other.rank\n"
      ],
      "execution_count": 10,
      "outputs": []
    },
    {
      "cell_type": "code",
      "metadata": {
        "colab": {
          "base_uri": "https://localhost:8080/"
        },
        "id": "iBa9-Oh62aMy",
        "outputId": "8c6a7ac7-381b-4c7e-f4a8-9c172855e9cd"
      },
      "source": [
        "c1=Card('3','\\u2660')\n",
        "c2=Card('5','\\u2662')\n",
        "print(c1)\n",
        "print(c2)\n",
        "print(c1<c2)\n",
        "print(c1>c2)\n",
        "print(c1<=c2)"
      ],
      "execution_count": 16,
      "outputs": [
        {
          "output_type": "stream",
          "text": [
            "Card(3,♠)\n",
            "Card(5,♢)\n",
            "True\n",
            "False\n",
            "True\n"
          ],
          "name": "stdout"
        }
      ]
    },
    {
      "cell_type": "markdown",
      "metadata": {
        "id": "5C_vUYs1JA5P"
      },
      "source": [
        "## Exercise 2"
      ]
    },
    {
      "cell_type": "code",
      "metadata": {
        "id": "ettYhVg3JCoL"
      },
      "source": [
        "\n",
        "class BankAccount:\n",
        "  'a bank account class'\n",
        "\n",
        "  def __init__(self, initial=0):\n",
        "    'constructor'\n",
        "    self.initial=initial\n",
        "\n",
        "  def withdraw(self, amount):\n",
        "    'withdraws amount'\n",
        "    self.initial-=amount\n",
        "    return self.initial\n",
        "        \n",
        "  def deposit(self,amount):\n",
        "    'deposits amount'\n",
        "    self.initial+=amount\n",
        "        \n",
        "  def balance(self):\n",
        "    'returns balance'\n",
        "    return self.withdraw(amount=0)\n",
        "        \n",
        "  def __repr__(self):\n",
        "    return \"BankAccount({})\".format(self.balance())"
      ],
      "execution_count": 68,
      "outputs": []
    },
    {
      "cell_type": "code",
      "metadata": {
        "colab": {
          "base_uri": "https://localhost:8080/"
        },
        "id": "Bh-iELQH4VJg",
        "outputId": "ea62e5a1-7d5a-4c51-8bf2-b3675f99dfcb"
      },
      "source": [
        "x=BankAccount(700)\n",
        "x.balance()"
      ],
      "execution_count": 69,
      "outputs": [
        {
          "output_type": "execute_result",
          "data": {
            "text/plain": [
              "700"
            ]
          },
          "metadata": {
            "tags": []
          },
          "execution_count": 69
        }
      ]
    },
    {
      "cell_type": "code",
      "metadata": {
        "colab": {
          "base_uri": "https://localhost:8080/"
        },
        "id": "P6UfB1nl6I9b",
        "outputId": "6f29174b-ae79-45d7-8f6d-f39128932add"
      },
      "source": [
        "x.withdraw(70)"
      ],
      "execution_count": 70,
      "outputs": [
        {
          "output_type": "execute_result",
          "data": {
            "text/plain": [
              "630"
            ]
          },
          "metadata": {
            "tags": []
          },
          "execution_count": 70
        }
      ]
    },
    {
      "cell_type": "code",
      "metadata": {
        "id": "1i4LnTmj6Lu1"
      },
      "source": [
        "x.deposit(7)"
      ],
      "execution_count": 71,
      "outputs": []
    },
    {
      "cell_type": "code",
      "metadata": {
        "colab": {
          "base_uri": "https://localhost:8080/"
        },
        "id": "kS8doTbR6Xaw",
        "outputId": "6fd2c022-4d35-46a4-a2b5-b06e4b8ed9b4"
      },
      "source": [
        "x.balance()"
      ],
      "execution_count": 72,
      "outputs": [
        {
          "output_type": "execute_result",
          "data": {
            "text/plain": [
              "637"
            ]
          },
          "metadata": {
            "tags": []
          },
          "execution_count": 72
        }
      ]
    },
    {
      "cell_type": "code",
      "metadata": {
        "colab": {
          "base_uri": "https://localhost:8080/"
        },
        "id": "-pKGGQnd6hy0",
        "outputId": "c23a69e4-55e9-4cc8-9972-74cd31a45cb2"
      },
      "source": [
        "x"
      ],
      "execution_count": 73,
      "outputs": [
        {
          "output_type": "execute_result",
          "data": {
            "text/plain": [
              "BankAccount (637)"
            ]
          },
          "metadata": {
            "tags": []
          },
          "execution_count": 73
        }
      ]
    },
    {
      "cell_type": "markdown",
      "metadata": {
        "id": "BceCqaiFJI4x"
      },
      "source": [
        "## Exercise 3"
      ]
    },
    {
      "cell_type": "code",
      "metadata": {
        "id": "VVCEdVR0JKQo"
      },
      "source": [
        "class PingPong:\n",
        "  def __init__(self):\n",
        "    '''initial method'''\n",
        "    self.state=\"PING\"\n",
        "\n",
        "  def next(self):\n",
        "    print(self.state)\n",
        "    if self.state==\"PING\":\n",
        "      self.state=\"PONG\"\n",
        "    else:\n",
        "      self.state=\"PING\""
      ],
      "execution_count": 83,
      "outputs": []
    },
    {
      "cell_type": "code",
      "metadata": {
        "colab": {
          "base_uri": "https://localhost:8080/"
        },
        "id": "zF9suM8i-U4S",
        "outputId": "7161e5e4-6a4d-4f2a-a38c-a813419c8bbc"
      },
      "source": [
        "ball=PingPong()\n",
        "ball.next()"
      ],
      "execution_count": 84,
      "outputs": [
        {
          "output_type": "stream",
          "text": [
            "PING\n"
          ],
          "name": "stdout"
        }
      ]
    },
    {
      "cell_type": "code",
      "metadata": {
        "colab": {
          "base_uri": "https://localhost:8080/"
        },
        "id": "8APVBm1p-caI",
        "outputId": "0cbc3ca6-03c9-426e-e4ff-a0b64ff7d32e"
      },
      "source": [
        "ball.next()"
      ],
      "execution_count": 85,
      "outputs": [
        {
          "output_type": "stream",
          "text": [
            "PONG\n"
          ],
          "name": "stdout"
        }
      ]
    },
    {
      "cell_type": "code",
      "metadata": {
        "colab": {
          "base_uri": "https://localhost:8080/"
        },
        "id": "mgak0cPx-dXv",
        "outputId": "d231a10f-987e-46c0-e229-d055659204ab"
      },
      "source": [
        "ball.next()"
      ],
      "execution_count": 86,
      "outputs": [
        {
          "output_type": "stream",
          "text": [
            "PING\n"
          ],
          "name": "stdout"
        }
      ]
    },
    {
      "cell_type": "markdown",
      "metadata": {
        "id": "TeVtjTCZJVkX"
      },
      "source": [
        "## Exercise 4"
      ]
    },
    {
      "cell_type": "code",
      "metadata": {
        "id": "hvnsirwkFEVh"
      },
      "source": [
        "# copy pasted the Point class for exercise 4\n",
        "\n",
        "class Point:\n",
        "  '''class that represents a point in the plane'''\n",
        "\n",
        "#    constructor\n",
        "#    notice two underscores\n",
        "  def __init__(self, xcoord=0, ycoord=0):\n",
        "    ''' (Point, float, float) -> None\n",
        "    >>> p=Point(2,3)\n",
        "    >>> p.x\n",
        "    >>> 2\n",
        "    >>> p.y\n",
        "    >>> 3\n",
        "\n",
        "    initialize point coordinates to (xcoord, ycoord)'''\n",
        "    self.x = xcoord\n",
        "    self.y = ycoord\n",
        "\n",
        "  def distance(self,p):\n",
        "    '''Returns distance between two points'''\n",
        "    return math.sqrt((self.x-p.x)**2 + (self.y-p.y)**2)\n",
        "\n",
        "  def up(self):\n",
        "    '''Moves point up by 1 unit. '''\n",
        "    self.move(0,1)\n",
        "  \n",
        "  def left(self):\n",
        "    '''Moves left by 1 unit. '''\n",
        "    self.move(-1,0)\n",
        "\n",
        "  def right(self):\n",
        "    '''Moves right by 1 unit. '''\n",
        "    self.move(1,0)\n",
        "\n",
        "  def down(self):\n",
        "    '''Moves point down by 1 unit. '''\n",
        "    self.move(0,-1)\n",
        "\n",
        "  def setx(self, xcoord):\n",
        "    ''' (Point,float)->None\n",
        "    set x coordinate of point to xcoord'''\n",
        "    self.x = xcoord\n",
        "\n",
        "  def sety(self, ycoord):\n",
        "    ''' (Point,float)->None\n",
        "    set y coordinate of point to ycoord'''\n",
        "    self.y = ycoord\n",
        "\n",
        "  def get(self):\n",
        "    '''(Point)->tuple\n",
        "    return a tuple with x and y coordinates of the point'''\n",
        "    return (self.x, self.y)\n",
        "\n",
        "  def move(self, dx, dy):\n",
        "    '''(Point,float,float)->None\n",
        "    change the x and y coordinates by dx and dy'''\n",
        "    self.x += dx\n",
        "    self.y += dy\n",
        "\n",
        "  def __eq__(self, other):\n",
        "    'self == other if they have the same coordinates'\n",
        "    return self.x == other.x and self.y == other.y\n",
        "\n",
        "  def __repr__(self):\n",
        "    'return canonical string representation Point(x, y)'\n",
        "    return 'Point('+str(self.x)+','+str(self.y)+')'"
      ],
      "execution_count": 114,
      "outputs": []
    },
    {
      "cell_type": "code",
      "metadata": {
        "id": "eHBqUexjJ0QV"
      },
      "source": [
        "class Vector(Point):\n",
        "  'a 2D vector class'\n",
        "\n",
        "  def __mul__(self, v):\n",
        "    'vector product'\n",
        "    return self.x*v.x + self.y*v.y\n",
        "    \n",
        "  def __add__(self, v):\n",
        "    'vector addition'\n",
        "    self.x+=v.x\n",
        "    self.y+=v.y\n",
        "    #self.__repr__()\n",
        "    return (self.x,self.y)\n",
        "        \n",
        "  def __repr__(self):\n",
        "    'returns the canonical string representation'\n",
        "    #print(\"inside __repr__\")\n",
        "    #return \"Vector({},{})\".format(self.x,self.y)\n",
        "       \n"
      ],
      "execution_count": 132,
      "outputs": []
    },
    {
      "cell_type": "code",
      "metadata": {
        "colab": {
          "base_uri": "https://localhost:8080/"
        },
        "id": "HFFzTcbVFxMD",
        "outputId": "4e5aac3d-ad4e-4f94-d31b-8744e0752e21"
      },
      "source": [
        "v1=Vector(1,3)\n",
        "v2=Vector(-2,4)\n",
        "print(v1*v2)\n",
        "print(v1+v2)"
      ],
      "execution_count": 133,
      "outputs": [
        {
          "output_type": "stream",
          "text": [
            "10\n",
            "(-1, 7)\n"
          ],
          "name": "stdout"
        }
      ]
    },
    {
      "cell_type": "markdown",
      "metadata": {
        "id": "McX5JpY4ADU3"
      },
      "source": [
        "# Second Half - Recursion "
      ]
    },
    {
      "cell_type": "markdown",
      "metadata": {
        "id": "zC0M75UAAIg7"
      },
      "source": [
        "## Exercise 0"
      ]
    },
    {
      "cell_type": "code",
      "metadata": {
        "id": "bfvTGa3IAHu-"
      },
      "source": [
        "def m(i):\n",
        "  '''(int)->number\n",
        "  returns the sum 1/3+2/5+3/7+...+i/(2i+1)\n",
        "  Precondition: i>=1\n",
        "  '''\n",
        "  if i==1:\n",
        "    return 1/3\n",
        "  else:\n",
        "    return m(i-1)+i/(2*i+1)"
      ],
      "execution_count": 136,
      "outputs": []
    },
    {
      "cell_type": "code",
      "metadata": {
        "id": "rcMrKtTjCh0c",
        "colab": {
          "base_uri": "https://localhost:8080/"
        },
        "outputId": "0c6187e4-57b4-4455-d6de-377dbad48fd4"
      },
      "source": [
        "# Task cases for m(i)\n",
        "for i in range(1, 11):\n",
        "     print('m('+str(i)+')=', m (i) )"
      ],
      "execution_count": 137,
      "outputs": [
        {
          "output_type": "stream",
          "text": [
            "m(1)= 0.3333333333333333\n",
            "m(2)= 0.7333333333333334\n",
            "m(3)= 1.161904761904762\n",
            "m(4)= 1.6063492063492064\n",
            "m(5)= 2.060894660894661\n",
            "m(6)= 2.5224331224331227\n",
            "m(7)= 2.9890997890997895\n",
            "m(8)= 3.459688024393907\n",
            "m(9)= 3.933372234920223\n",
            "m(10)= 4.409562711110699\n"
          ],
          "name": "stdout"
        }
      ]
    },
    {
      "cell_type": "markdown",
      "metadata": {
        "id": "83fnIJWdAjN1"
      },
      "source": [
        "## Exercise 1"
      ]
    },
    {
      "cell_type": "code",
      "metadata": {
        "id": "Nk2gHTiTAqN9",
        "colab": {
          "base_uri": "https://localhost:8080/"
        },
        "outputId": "c14dc18f-0b4a-4783-9933-234cbd0dd27c"
      },
      "source": [
        "# a recursive function that computes and returns the number of digits in given input non-negative integer.\n",
        "\n",
        "def count_digits(n):\n",
        "  '''(int)->int\n",
        "  Returns the number of digits in n\n",
        "  Precondition: n a non-negative integer\n",
        "  '''\n",
        "\n",
        "  count=0\n",
        "  rest_of_digits=n//10\n",
        "  if rest_of_digits==0:\n",
        "    count=1\n",
        "  else:\n",
        "    count=1+count_digits(rest_of_digits)\n",
        "  return count\n",
        "\n",
        "count_digits(100)\n",
        "     "
      ],
      "execution_count": 142,
      "outputs": [
        {
          "output_type": "execute_result",
          "data": {
            "text/plain": [
              "3"
            ]
          },
          "metadata": {
            "tags": []
          },
          "execution_count": 142
        }
      ]
    },
    {
      "cell_type": "markdown",
      "metadata": {
        "id": "JJz9wpVhA3gD"
      },
      "source": [
        "## Exercise 2"
      ]
    },
    {
      "cell_type": "code",
      "metadata": {
        "id": "SQt17zZfA8gD",
        "colab": {
          "base_uri": "https://localhost:8080/"
        },
        "outputId": "07d3bc9b-9aca-4ade-d093-cd664f4a67bf"
      },
      "source": [
        "def is_palindrome(s):\n",
        "  '''(str)->bool\n",
        "  Returns True if string s forms a palindrom and False otherwise\n",
        "  '''\n",
        "  if len(s)<=1:\n",
        "    return True\n",
        "  elif (s[0].lower()!=s[len(s)-1].lower()):\n",
        "    return False\n",
        "  else:\n",
        "    return is_palindrome(s[1:len(s)-1])\n",
        "\n",
        "is_palindrome('afga')  "
      ],
      "execution_count": 145,
      "outputs": [
        {
          "output_type": "execute_result",
          "data": {
            "text/plain": [
              "False"
            ]
          },
          "metadata": {
            "tags": []
          },
          "execution_count": 145
        }
      ]
    },
    {
      "cell_type": "markdown",
      "metadata": {
        "id": "W44CZCqIBEoV"
      },
      "source": [
        "## Exercise 3"
      ]
    },
    {
      "cell_type": "code",
      "metadata": {
        "id": "wMB-GgtcBGAl",
        "colab": {
          "base_uri": "https://localhost:8080/"
        },
        "outputId": "b910a3e6-3612-4d6a-a5e5-16ffbc7acaa1"
      },
      "source": [
        "def gcd(a, b):\n",
        "  '''(int,int)->int\n",
        "  Returns the greatest common divisor of a and b\n",
        "  Precondition: a and b are both positive integers\n",
        "  '''\n",
        "  if (b==0):\n",
        "    return a\n",
        "  else:\n",
        "    return gcd(b,a%b)\n",
        "\n",
        "gcd(36,20)"
      ],
      "execution_count": 147,
      "outputs": [
        {
          "output_type": "execute_result",
          "data": {
            "text/plain": [
              "4"
            ]
          },
          "metadata": {
            "tags": []
          },
          "execution_count": 147
        }
      ]
    }
  ]
}