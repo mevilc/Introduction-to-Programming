{
  "nbformat": 4,
  "nbformat_minor": 0,
  "metadata": {
    "colab": {
      "name": "Mevil - Lab8.ipynb",
      "provenance": [],
      "collapsed_sections": []
    },
    "kernelspec": {
      "name": "python3",
      "display_name": "Python 3"
    }
  },
  "cells": [
    {
      "cell_type": "markdown",
      "metadata": {
        "id": "89RKfwG2A3iO"
      },
      "source": [
        "# Lab 8"
      ]
    },
    {
      "cell_type": "markdown",
      "metadata": {
        "id": "9zrbKm_NA7Ns"
      },
      "source": [
        "# Exercise 0"
      ]
    },
    {
      "cell_type": "code",
      "metadata": {
        "id": "4W5dfnVgBQoi"
      },
      "source": [
        "# programming exercise  0\n",
        "import random\n",
        "def make_matrix_random(a, b, x, y):\n",
        "  '''(int,int,int,int)->2D list\n",
        "  Returns a 2D list representing a matrix with a rows and b columns\n",
        "  filled with random integers >=x and <=y\n",
        "  Precondition: a,b positive and x <=y\n",
        "  '''\n",
        "  newList = [] # setting new list of lists\n",
        "  for rows in range(a): # in range of rows\n",
        "    rowList=[] # list initialized inside loop to make the rows empty each time\n",
        "    for cols in range(b):\n",
        "      rowList.append(random.randint(x,y)) # appending a random number between x and y\n",
        "    newList.append(rowList)\n",
        "\n",
        "  return newList"
      ],
      "execution_count": 1,
      "outputs": []
    },
    {
      "cell_type": "code",
      "metadata": {
        "id": "AAXCS5uWMwfd",
        "colab": {
          "base_uri": "https://localhost:8080/"
        },
        "outputId": "a64f9d0a-6a15-4472-ae3f-3fc30b688332"
      },
      "source": [
        "print(make_matrix_random(3, 5, 0, 10))  # the function should have randomness, thus no expecting result\n",
        "print(make_matrix_random(2, 4, 10, 20)) # the function should have randomness, thus no expecting result\n",
        "print(make_matrix_random(5, 3, 0, 10))  # the function should have randomness, thus no expecting result"
      ],
      "execution_count": 2,
      "outputs": [
        {
          "output_type": "stream",
          "text": [
            "[[1, 1, 6, 8, 2], [9, 0, 1, 10, 7], [9, 0, 10, 9, 8]]\n",
            "[[20, 19, 13, 13], [16, 13, 17, 14]]\n",
            "[[4, 7, 4], [3, 3, 6], [0, 4, 9], [2, 4, 3], [5, 3, 1]]\n"
          ],
          "name": "stdout"
        }
      ]
    },
    {
      "cell_type": "markdown",
      "metadata": {
        "id": "kbxWcyt5IW0w"
      },
      "source": [
        "# Exercise 1"
      ]
    },
    {
      "cell_type": "code",
      "metadata": {
        "id": "lV9UIlMkIVJ5"
      },
      "source": [
        "# programming exercise  1\n",
        "def sum_above_diagonal(m):\n",
        "  '''(2D list)->number\n",
        "  Returns the sum of the elements of the matarix m that are on or about the diagonal of m\n",
        "  (for clarification see the slide entitled: Details about Prog Ex 2)\n",
        "  Precondition: m is a square matrix filled with numbers\n",
        "     \n",
        "  >>> sum_above_diagonal([[1,2],[10,20]] )\n",
        "  23\n",
        "  '''\n",
        "\n",
        "  sum=0\n",
        "  for rows in range(len(m)):\n",
        "    for cols in range(len(m[0])):\n",
        "      if rows<=cols:\n",
        "        sum+=m[rows][cols]\n",
        "  return sum"
      ],
      "execution_count": null,
      "outputs": []
    },
    {
      "cell_type": "code",
      "metadata": {
        "id": "zPKf7zE8NWTu",
        "colab": {
          "base_uri": "https://localhost:8080/"
        },
        "outputId": "7cb1e141-06df-4528-cb36-80f5136596ed"
      },
      "source": [
        "print(sum_above_diagonal([[6, 2, 0, 6, 1], [6, 8, 2, 5, 8], [0, 6, 3, 2, 3]])) #Excepting 46\n",
        "print(sum_above_diagonal([[11, 11, 16, 11], [15, 11, 16, 11]])) #Excepting 87\n",
        "print(sum_above_diagonal([[7, 3, 6], [5, 8, 2], [6, 8, 6], [4, 3, 1], [10, 7, 9]])) #Excepting 32\n",
        "print(sum_above_diagonal([[1,2],[10,20]])) #Excepting 23"
      ],
      "execution_count": null,
      "outputs": [
        {
          "output_type": "stream",
          "text": [
            "46\n",
            "87\n",
            "32\n",
            "23\n"
          ],
          "name": "stdout"
        }
      ]
    },
    {
      "cell_type": "markdown",
      "metadata": {
        "id": "zVG6G9XdMkk3"
      },
      "source": [
        "# Exercise 2"
      ]
    },
    {
      "cell_type": "code",
      "metadata": {
        "id": "JndrzvOnMm9P"
      },
      "source": [
        "# programming exercise  2\n",
        "def max_over_all_even_cols(m):\n",
        "  '''(2D list)->number\n",
        "  Returns the maximum element among all the numbers that are in even columns of m\n",
        "  i.e the maximum element amoung all elements in 0th, 2th, 4th etc. column\n",
        "  Precondition: m is a matrix filled with numbers with at least 1 row and 1 column\n",
        "     \n",
        "  >>> max_over_all_even_cols([[1,1,1,1,1,1,1],[1,10,3,20,12,6,0]])\n",
        "  12\n",
        "  '''\n",
        "\n",
        "  max=0\n",
        "  for rows in range(len(m)):\n",
        "    for cols in range(0,len(m[0]),2):\n",
        "      if m[rows][cols]>max:\n",
        "        max=m[rows][cols]\n",
        "  return max     "
      ],
      "execution_count": 3,
      "outputs": []
    },
    {
      "cell_type": "code",
      "metadata": {
        "id": "5xjdjfwCOBTL",
        "colab": {
          "base_uri": "https://localhost:8080/"
        },
        "outputId": "eadb3626-39c1-46a8-e746-510020b9a0ab"
      },
      "source": [
        "print(max_over_all_even_cols([[1,1,1,1,1,1,1],[1,10,3,20,12,6,0]])) # Expecting 12\n",
        "print(max_over_all_even_cols([[1,2,1,2,1,2,1],[1,10,20,2,12,6,0]])) # Expecting 20"
      ],
      "execution_count": 4,
      "outputs": [
        {
          "output_type": "stream",
          "text": [
            "12\n",
            "20\n"
          ],
          "name": "stdout"
        }
      ]
    },
    {
      "cell_type": "markdown",
      "metadata": {
        "id": "oXvh1l_aMo71"
      },
      "source": [
        "# Exercise 3"
      ]
    },
    {
      "cell_type": "code",
      "metadata": {
        "id": "aEaSfqrbMqdP"
      },
      "source": [
        "#programming exercise 3\n",
        "def max_each_row(m):\n",
        "  '''(2D list)->list\n",
        "  Returns a list where in position p of the list is the max number among all the numebrs of p-th row of m\n",
        "  Precondition: m is a matrix filled with numbers\n",
        "\n",
        "  >>> max_each_row([[1,2],[200,0],[3,3],[-10,-20]])\n",
        "  [2, 200, 3, -10]\n",
        "  '''\n",
        "\n",
        "  newLst=[]\n",
        "  for rows in range(len(m)):\n",
        "    newLst.append(max(m[rows]))\n",
        "  return newLst"
      ],
      "execution_count": 5,
      "outputs": []
    },
    {
      "cell_type": "code",
      "metadata": {
        "id": "XntrprYAOeyH",
        "colab": {
          "base_uri": "https://localhost:8080/"
        },
        "outputId": "5ba0695f-9831-4ab7-f5a6-5dcf76bb03e9"
      },
      "source": [
        "print(max_each_row([[1,2],[200,0],[3,3],[-10,-20]])) # Expecting [2, 200, 3, -10]\n",
        "print(max_each_row([[100,2],[-200,0],[3,6],[-10,-20]])) # Expecting [100, 0, 6, -10]\n",
        "print(max_each_row([[1,2, 3],[10,20,56, 78],[3,2],[-20]])) # Expecting [3, 78, 3, -20]"
      ],
      "execution_count": 6,
      "outputs": [
        {
          "output_type": "stream",
          "text": [
            "[2, 200, 3, -10]\n",
            "[100, 0, 6, -10]\n",
            "[3, 78, 3, -20]\n"
          ],
          "name": "stdout"
        }
      ]
    },
    {
      "cell_type": "markdown",
      "metadata": {
        "id": "qXgMUvRAMshr"
      },
      "source": [
        "# Exercise 4"
      ]
    },
    {
      "cell_type": "code",
      "metadata": {
        "id": "89xxLDjCMvS5"
      },
      "source": [
        "# programming exercise  4\n",
        "def index_of_max_sum_row(m):\n",
        "  '''(2D list)->int\n",
        "  Returns the index of a row that has the largest sum of all the rows\n",
        "  Precondition: m is a matrix filled with numbers\n",
        "  >>> index_of_max_sum_row([[100,100], [-100,0], [200,30], [1,2]])\n",
        "  2\n",
        "  >>> index_of_max_sum_row([[100,100], [-100,0], [200,30], [10000,2]])\n",
        "  3\n",
        "  '''\n",
        "\n",
        "  max_index=0\n",
        "  max_row_sum=float(\"-inf\")\n",
        "  for rows in range(len(m)):\n",
        "    sum=0\n",
        "    for cols in range(len(m[0])):\n",
        "      sum+=m[rows][cols]\n",
        "    if sum > max_row_sum:\n",
        "      max_row_sum=sum\n",
        "      max_index=rows\n",
        "  return max_index"
      ],
      "execution_count": 9,
      "outputs": []
    },
    {
      "cell_type": "code",
      "metadata": {
        "id": "_OduLtoxPAXE",
        "colab": {
          "base_uri": "https://localhost:8080/"
        },
        "outputId": "6b2966d6-e411-4351-b029-0aed96a100ed"
      },
      "source": [
        "print(index_of_max_sum_row([[100,100], [-100,0], [200,30], [1,2]])) # Expecting 2\n",
        "print(index_of_max_sum_row([[100,100], [-100,0], [200,30], [10000,2]])) # Expecting 3\n"
      ],
      "execution_count": 10,
      "outputs": [
        {
          "output_type": "stream",
          "text": [
            "2\n",
            "3\n"
          ],
          "name": "stdout"
        }
      ]
    },
    {
      "cell_type": "markdown",
      "metadata": {
        "id": "Js3FpxAPBEAy"
      },
      "source": [
        "#Exercise 5"
      ]
    },
    {
      "cell_type": "code",
      "metadata": {
        "id": "De19hAIbRH31"
      },
      "source": [
        "# checks if matrix is square (n x n)\n",
        "def is_square(m):\n",
        "  '''(2D List)-> Bool\n",
        "  Returns True if m is a square matrix.'''\n",
        "\n",
        "  return len(m)==len(m[0]) # returns True if square. False otherwise.\n",
        "\n",
        "\n",
        "# checks if all elements are from 1 to less than n^2\n",
        "def elements(m):\n",
        "  '''(2D List) -> Bool\n",
        "  Returns True if all elements are 1,2,n^2.\n",
        "  False otherwise. '''\n",
        "\n",
        "  for i in range(len(m)):\n",
        "    for j in range(len(m[0])):\n",
        "      if m[i][j] >= 1 and m[i][j] <= (len(m)**2):\n",
        "        return True\n",
        "  return False # if not, return False\n",
        "\n",
        "\n",
        "# main function to check if rows, columns and diagnols add to same number\n",
        "def magic(m):\n",
        "  '''2D list->bool\n",
        "  Returns True if m forms a magic square\n",
        "  Precondition: m is a matrix with at least 2 rows and 2 columns '''\n",
        "\n",
        "  diag_sum=0\n",
        "  col_sum=0\n",
        "  row_sum=sum(m[0])\n",
        "\n",
        "  if elements(m) == True and is_square(m) == True: # if matrix is square and has all proper elements\n",
        "    for rows in range(len(m)):\n",
        "      if sum(m[rows])!=row_sum: # all rows must have same sum. If not, False\n",
        "        return False\n",
        "      for cols in range(len(m[0])):\n",
        "        col_sum+=m[rows][cols] # adding col values\n",
        "        if rows==cols: # if diagnol, sum all values\n",
        "          diag_sum+=m[rows][cols]\n",
        "\n",
        "    # checks if col and diagnol sum != to row sum. If it does, then return False\n",
        "    if col_sum // len(m[0])!=row_sum or diag_sum!=row_sum: \n",
        "      return False\n",
        "    else:\n",
        "      return True\n",
        "  else: # if not a square matrix and does not have all proper elements\n",
        "    return False"
      ],
      "execution_count": 17,
      "outputs": []
    },
    {
      "cell_type": "code",
      "metadata": {
        "id": "lQll_W54RQHq",
        "colab": {
          "base_uri": "https://localhost:8080/"
        },
        "outputId": "b453d389-1949-4656-859e-6593b82963eb"
      },
      "source": [
        "# main\n",
        "# TESTING OF magic functions\n",
        "# this should print True\n",
        "\n",
        "m0=[[2,7, 6],[9,5,1],[4,3,8]]\n",
        "print(magic(m0))\n",
        "    \n",
        "# this should print True\n",
        "m1 = [[16,3,2,13], [5,10,11,8],[9,6,7,12], [4,15,14,1]]\n",
        "print(magic(m1))\n",
        "    \n",
        "# this should print False. Why? Which condition imposed on magic squares is not true for m3\n",
        "m2 = [[1,2,3,4], [5,6,7,8],[9,10,11,12], [13,14,15,16]]\n",
        "print(magic(m2))\n",
        "    \n",
        "#this should print False. Why? Which condition imposed on magic squares is not true for m3\n",
        "m3 =  [[1,1],[1,1]]\n",
        "print(magic(m3))\n",
        "\n",
        "# #this should print False. Why? Which condition imposed on magic squares is not \n",
        "m4 =  [[1,1],[1,1],[1,2]]\n",
        "print(magic(m4))\n"
      ],
      "execution_count": 18,
      "outputs": [
        {
          "output_type": "stream",
          "text": [
            "True\n",
            "True\n",
            "False\n",
            "True\n",
            "False\n"
          ],
          "name": "stdout"
        }
      ]
    },
    {
      "cell_type": "markdown",
      "metadata": {
        "id": "SZJh0FYlSJVi"
      },
      "source": [
        "# Exercise 6"
      ]
    },
    {
      "cell_type": "code",
      "metadata": {
        "id": "k1NydCQe6YO6",
        "colab": {
          "base_uri": "https://localhost:8080/"
        },
        "outputId": "2b056afc-0ffd-418f-c723-e453e5c765a8"
      },
      "source": [
        "from google.colab import drive\n",
        "drive.mount('/content/drive')"
      ],
      "execution_count": 19,
      "outputs": [
        {
          "output_type": "stream",
          "text": [
            "Mounted at /content/drive\n"
          ],
          "name": "stdout"
        }
      ]
    },
    {
      "cell_type": "code",
      "metadata": {
        "id": "mlkCY0hm61Gf"
      },
      "source": [
        "def create_books_2Dlist(file_name):\n",
        "  '''(None)->2D list\n",
        "  Returns a assorted list of lists from\n",
        "  file_name.'''\n",
        "  \n",
        "  newLst=[]\n",
        "  data_path='/content/drive/My Drive/ITI1120/Lab8/'\n",
        "  file_open=open(data_path+file_name).read().splitlines()\n",
        "  \n",
        "  for data in file_open:\n",
        "    data=data.split(\"\\t\")\n",
        "    title=data[0].strip()\n",
        "    author=data[1].strip()\n",
        "    publish=data[2].strip()\n",
        "    if len(data[3])==9: # reformatting date\n",
        "      final_date = data[3][5:9] + \"-0\" + data[3][0] + \"-\" + data[3][2:4]\n",
        "    elif len(data[3])==10:\n",
        "      final_date = data[3][6:10] + \"-\" + data[3][:2] + \"-\" + data[3][3:5]\n",
        "    category=data[4].strip()\n",
        "    print()\n",
        "    newLst.append([final_date,title,author,publish,category])\n",
        "  return newLst"
      ],
      "execution_count": 102,
      "outputs": []
    },
    {
      "cell_type": "code",
      "metadata": {
        "id": "6Izm2UeDQUEa",
        "colab": {
          "base_uri": "https://localhost:8080/"
        },
        "outputId": "934e6521-57a0-418a-b133-002ff760cb5c"
      },
      "source": [
        "books=create_books_2Dlist('NYT_short.txt')\n",
        "print(books)"
      ],
      "execution_count": 104,
      "outputs": [
        {
          "output_type": "stream",
          "text": [
            "\n",
            "\n",
            "\n",
            "\n",
            "\n",
            "\n",
            "\n",
            "\n",
            "\n",
            "\n",
            "\n",
            "\n",
            "\n",
            "\n",
            "\n",
            "\n",
            "[['1976-04-11', '1876', 'Gore Vidal', 'Random House', 'Fiction'], ['2011-11-27', '23337', 'Stephen King', 'Scribner', 'Fiction'], ['2011-11-27', '...and Ladies of the Club', 'Helen Hooven Santmeyer', 'Putnam', 'Fiction'], ['2001-03-25', '1st to Die', 'James Patterson', 'Little, Brown', 'Fiction'], ['2002-03-24', '2nd Chance', 'James Patterson', 'Little, Brown', 'Fiction'], ['2004-03-21', '3rd Degree', 'James Patterson', 'Little, Brown', 'Fiction'], ['2005-05-22', '4th of July', 'James Patterson', 'Little, Brown', 'Fiction'], ['2005-05-22', '61 Hours', 'Lee Child', 'Delacorte', 'Fiction'], ['2005-10-16', 'A Breath of Snow and Ashes', 'Diana Gabaldon', 'Delacorte', 'Fiction'], ['2001-04-29', 'A Common Life', 'Jan Karon', 'Viking', 'Fiction'], ['2011-07-31', 'A Dance With Dragons', 'George R. R. Martin', 'Bantam', 'Fiction'], ['2011-07-31', 'A Day Late and a Dollar Short', 'Terry McMillan', 'Viking', 'Fiction'], ['2005-11-27', 'A Feast For Crows', 'George R. R. Martin', 'Bantam', 'Fiction'], ['2005-11-27', 'A Lion Is In the Streets', 'Adria Locke Langley', 'McGraw', 'Fiction'], ['1998-11-22', 'A Man In Full', 'Tom Wolfe', 'Farrar, Straus & Giroux', 'Fiction'], ['2001-02-25', 'A Painted House', 'John Grisham', 'Doubleday', 'Fiction']]\n"
          ],
          "name": "stdout"
        }
      ]
    },
    {
      "cell_type": "code",
      "metadata": {
        "id": "5WO3VPKkQWl5"
      },
      "source": [
        "def search_by_year(books, year1, year2):\n",
        "  '''(2D list)->None'''\n",
        "  \n",
        "  count=0 \n",
        "  print(\"\\nAll titles between \"+str(year1)+\" and \"+str(year2)+\":\\n\")\n",
        "  for i in books:\n",
        "    if int(i[0][:4])>=year1 and int(i[0][:4])<=year2:\n",
        "      print(i[1]+\", by \"+i[2]+\" (\"+i[0]+\")\")\n",
        "    else:\n",
        "      count+=1\n",
        "  \n",
        "  if count==len(books):\n",
        "    print(\"no books\")"
      ],
      "execution_count": 105,
      "outputs": []
    },
    {
      "cell_type": "code",
      "metadata": {
        "id": "Mb6g0CgEQhks",
        "colab": {
          "base_uri": "https://localhost:8080/"
        },
        "outputId": "905d52fa-bb85-4939-9fab-b2a5ca173047"
      },
      "source": [
        "print(search_by_year(books, 2005, 2005))\n",
        "print(search_by_year(books, 1945, 1999))\n",
        "print(search_by_year(books, 2016, 2017))"
      ],
      "execution_count": 106,
      "outputs": [
        {
          "output_type": "stream",
          "text": [
            "\n",
            "All titles between 2005 and 2005:\n",
            "\n",
            "4th of July, by James Patterson (2005-05-22)\n",
            "61 Hours, by Lee Child (2005-05-22)\n",
            "A Breath of Snow and Ashes, by Diana Gabaldon (2005-10-16)\n",
            "A Feast For Crows, by George R. R. Martin (2005-11-27)\n",
            "A Lion Is In the Streets, by Adria Locke Langley (2005-11-27)\n",
            "None\n",
            "\n",
            "All titles between 1945 and 1999:\n",
            "\n",
            "1876, by Gore Vidal (1976-04-11)\n",
            "A Man In Full, by Tom Wolfe (1998-11-22)\n",
            "None\n",
            "\n",
            "All titles between 2016 and 2017:\n",
            "\n",
            "no books\n",
            "None\n"
          ],
          "name": "stdout"
        }
      ]
    },
    {
      "cell_type": "markdown",
      "metadata": {
        "id": "9o7aJNvzPkjm"
      },
      "source": [
        "# Extra Exercise"
      ]
    },
    {
      "cell_type": "code",
      "metadata": {
        "id": "7bMKBNWQSXUH"
      },
      "source": [
        "import copy\n",
        "\n",
        "def move_zeros_with_return(lst):\n",
        "  '''lst -> lst\n",
        "  Returns a new list where the zeros of the given list lst\n",
        "  are placed to the end (without change the relative order of other numbers)\n",
        "\n",
        "  Precondtion: lst is a list of numbers '''\n",
        "\n",
        "  tmp=copy.deepcopy(lst)\n",
        "  for i in range(len(tmp)):\n",
        "    if tmp[i]==0:\n",
        "      tmp.remove(0)\n",
        "      tmp.append(0)"
      ],
      "execution_count": 119,
      "outputs": []
    },
    {
      "cell_type": "code",
      "metadata": {
        "id": "RsUdaI9oSbw3",
        "colab": {
          "base_uri": "https://localhost:8080/"
        },
        "outputId": "64d7c5ba-1f9d-4bd2-8e0c-73f182db9a90"
      },
      "source": [
        "x = [1, 0, 3, 0, 0, 5, 7] \n",
        "#print(x)\n",
        "y=move_zeros_with_return(x)\n",
        "print(x,y)\n",
        "\n",
        "#note that if we made a call like this\n",
        "# x would change, or rather refer to a list with zeros moved\n",
        "#x=move_zeros_with_return(x) \n",
        "#print(x)          "
      ],
      "execution_count": 120,
      "outputs": [
        {
          "output_type": "stream",
          "text": [
            "[1, 0, 3, 0, 0, 5, 7] None\n"
          ],
          "name": "stdout"
        }
      ]
    },
    {
      "cell_type": "code",
      "metadata": {
        "id": "jjKqbe_UPnOV"
      },
      "source": [
        "def move_zeros_extra_list_no_return(lst):\n",
        "  '''lst -> None\n",
        "  moves zeros of the given list lst to the end (without change the relative order of other numbers)\n",
        "  Precondtion: lst is a list of numbers\n",
        "  '''\n",
        "  for i in range(len(lst)):\n",
        "    if lst[i]==0:\n",
        "      lst.remove(0)\n",
        "      lst.append(0)\n",
        "  print(\"This is lst: \",lst)\n"
      ],
      "execution_count": 121,
      "outputs": []
    },
    {
      "cell_type": "code",
      "metadata": {
        "id": "xKEABis9SfHJ",
        "colab": {
          "base_uri": "https://localhost:8080/"
        },
        "outputId": "995c933e-2c6a-43cb-87c1-c7a28eb71f87"
      },
      "source": [
        "x = [1, 0, 3, 0, 0, 5, 7] \n",
        "#print(x)\n",
        "move_zeros_extra_list_no_return(x)\n",
        "print(x)\n",
        "\n"
      ],
      "execution_count": 123,
      "outputs": [
        {
          "output_type": "stream",
          "text": [
            "This is lst:  [1, 3, 5, 7, 0, 0, 0]\n",
            "[1, 3, 5, 7, 0, 0, 0]\n"
          ],
          "name": "stdout"
        }
      ]
    },
    {
      "cell_type": "code",
      "metadata": {
        "id": "yRZ_djBKSYh4"
      },
      "source": [
        "def move_zeros_in_place(lst):\n",
        "  '''lst -> None\n",
        "  moves zeros of the given list lst to the end (but it may change the relative order of other numbers)\n",
        "  Precondtion: lst is a list of numbers\n",
        "  '''\n",
        "\n",
        "  "
      ],
      "execution_count": null,
      "outputs": []
    },
    {
      "cell_type": "code",
      "metadata": {
        "id": "tEOEh7S5SgVn"
      },
      "source": [
        "x = [1, 0, 3, 0, 0, 5, 7] \n",
        "print(x)\n",
        "move_zeros_in_place(x)\n",
        "print(x)\n"
      ],
      "execution_count": null,
      "outputs": []
    }
  ]
}