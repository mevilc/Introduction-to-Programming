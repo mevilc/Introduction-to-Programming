{
  "nbformat": 4,
  "nbformat_minor": 0,
  "metadata": {
    "colab": {
      "name": "a2_8250420.ipynb",
      "provenance": []
    },
    "kernelspec": {
      "name": "python3",
      "display_name": "Python 3"
    }
  },
  "cells": [
    {
      "cell_type": "markdown",
      "metadata": {
        "id": "J4ygFgk4G6iN"
      },
      "source": [
        "Exercise 1"
      ]
    },
    {
      "cell_type": "code",
      "metadata": {
        "id": "Te7n9zpy2KtL",
        "colab": {
          "base_uri": "https://localhost:8080/"
        },
        "outputId": "18c2dd22-7763-4f23-bee0-6972306ef5b3"
      },
      "source": [
        "def same_pattern(s1,s2):\n",
        "  '''(str) -> bool\n",
        "  Returns True if len(s1) == len(s2) and both\n",
        "  strings have a repeating sequence. Otherwise, False.\n",
        "  '''\n",
        "\n",
        "  count=0\n",
        "  if len(s1)==len(s2): # if s1 and s2 are equal length\n",
        "    for i in range(len(s1)-1):\n",
        "      if (s1[i]!=s1[i+1] and s2[i]!=s2[i+1]): # checks is consequent 2 characters are not similar\n",
        "        count+=1\n",
        "\n",
        "    if count==(len(s1)-1): # checks if count == spaces between s1 (or s2)\n",
        "      return True\n",
        "    else:\n",
        "      return False\n",
        "  \n",
        "  else: # if not same length, return False\n",
        "    return False\n",
        "\n",
        "same_pattern(\"aba\",\"+-+\")"
      ],
      "execution_count": 23,
      "outputs": [
        {
          "output_type": "execute_result",
          "data": {
            "text/plain": [
              "True"
            ]
          },
          "metadata": {
            "tags": []
          },
          "execution_count": 23
        }
      ]
    },
    {
      "cell_type": "markdown",
      "metadata": {
        "id": "VZeZdPKnGUwG"
      },
      "source": [
        "Exercise 2"
      ]
    },
    {
      "cell_type": "code",
      "metadata": {
        "colab": {
          "base_uri": "https://localhost:8080/"
        },
        "id": "gH1yoA0H9C2x",
        "outputId": "c7b31036-ff49-45c8-87c3-88049b284b0c"
      },
      "source": [
        "def is_unique(l):\n",
        "  '''(list)->bool\n",
        "  Returns True if no duplicate element in l.\n",
        "  False otherwise.\n",
        "  '''\n",
        "  for i in l:\n",
        "    if l.count(i)>1: # checks if occurence of every element is more than one.\n",
        "      return False\n",
        "  return True\n",
        "\n",
        "\n",
        "is_unique([1,1,2])"
      ],
      "execution_count": 2,
      "outputs": [
        {
          "output_type": "execute_result",
          "data": {
            "text/plain": [
              "False"
            ]
          },
          "metadata": {
            "tags": []
          },
          "execution_count": 2
        }
      ]
    },
    {
      "cell_type": "markdown",
      "metadata": {
        "id": "ATX5fsYrGZxS"
      },
      "source": [
        "Exercise 3"
      ]
    },
    {
      "cell_type": "code",
      "metadata": {
        "colab": {
          "base_uri": "https://localhost:8080/"
        },
        "id": "Wn8EQMKOGbXK",
        "outputId": "a5119def-5871-4c4c-eb2c-884adff42b76"
      },
      "source": [
        "def longest_sorted_sequence(l):\n",
        "  ''' (list) -> int\n",
        "  Returns length of longest ascending sequence in list.\n",
        "  '''\n",
        "  count=1\n",
        "  max_count=[]\n",
        "  for i in range(len(l)-1):\n",
        "    if l[i]<=l[i+1]:\n",
        "      count+=1\n",
        "    else:\n",
        "      max_count.append(count)\n",
        "      count=1\n",
        "    \n",
        "  return max(max_count)\n",
        "    \n",
        "\n",
        "longest_sorted_sequence([3, 8, 10, 1, 9, 14, -3, 0, 14, 207, 56, 98, 12])"
      ],
      "execution_count": 27,
      "outputs": [
        {
          "output_type": "execute_result",
          "data": {
            "text/plain": [
              "4"
            ]
          },
          "metadata": {
            "tags": []
          },
          "execution_count": 27
        }
      ]
    },
    {
      "cell_type": "markdown",
      "metadata": {
        "id": "eB9nejbPwTjF"
      },
      "source": [
        "Exercise 4"
      ]
    },
    {
      "cell_type": "code",
      "metadata": {
        "colab": {
          "base_uri": "https://localhost:8080/"
        },
        "id": "B0qMQLWPwU7_",
        "outputId": "6dfeaf26-6614-41ae-a197-18b5634f7922"
      },
      "source": [
        "# part a)\n",
        "\n",
        "def Unique(A, n):\n",
        "  ''' (list, int) -> list\n",
        "  Returns a list of size n with every unique\n",
        "  element in A replaced by -1.\n",
        "  '''\n",
        "  for i in range(n):\n",
        "    if A.count(A[i]) == 1:\n",
        "      A.pop(i)\n",
        "      A.insert(i,-1)\n",
        "  return A\n",
        "\n",
        "Unique([5, 4, 7, 5, 9, 6, 6], 7)"
      ],
      "execution_count": 3,
      "outputs": [
        {
          "output_type": "execute_result",
          "data": {
            "text/plain": [
              "[5, -1, -1, 5, -1, 6, 6]"
            ]
          },
          "metadata": {
            "tags": []
          },
          "execution_count": 3
        }
      ]
    },
    {
      "cell_type": "markdown",
      "metadata": {
        "id": "JbsoOiBI0HZP"
      },
      "source": [
        "  Part b)\n",
        "\n",
        "  The worst-case Big-O for the above function is O(n) because the memory allocation of the function depends on the size of the list, n, linearly. The time complexity of the algorithm is simply the size of the list. This is because as the list size increases, the for loop loops many more times."
      ]
    }
  ]
}