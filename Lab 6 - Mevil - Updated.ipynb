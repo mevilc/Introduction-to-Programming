{
  "nbformat": 4,
  "nbformat_minor": 0,
  "metadata": {
    "colab": {
      "name": "exercises.ipynb",
      "provenance": [],
      "collapsed_sections": [
        "aAIuXL8ovoK9",
        "5DZcPD5zwWpv",
        "BJWkzsHkyDjt"
      ]
    },
    "kernelspec": {
      "name": "python3",
      "display_name": "Python 3"
    }
  },
  "cells": [
    {
      "cell_type": "markdown",
      "metadata": {
        "id": "EO7VsVf8vWsF"
      },
      "source": [
        "# Exercise 0"
      ]
    },
    {
      "cell_type": "code",
      "metadata": {
        "id": "_C4hYvv1vY0r"
      },
      "source": [
        "def sum_odd_while_v2(n):\n",
        "  '''(int)->int\n",
        "  Returns the sum of all odd integers between 5 and n \n",
        "  '''\n",
        "  sum = 0\n",
        "  i = 5\n",
        "  \n",
        "  while i <= n:\n",
        "    while i % 2 == 1:\n",
        "      sum += i\n",
        "      i += 1 # this increment to get out of nested while loop\n",
        "    i += 1 # this increment to get out of main while loop\n",
        "  return sum"
      ],
      "execution_count": null,
      "outputs": []
    },
    {
      "cell_type": "code",
      "metadata": {
        "id": "sVrVoqHnvvmc",
        "colab": {
          "base_uri": "https://localhost:8080/"
        },
        "outputId": "7aa056e5-1d5e-4899-b020-4aa35476eca9"
      },
      "source": [
        "print(sum_odd_while_v2(10)) # expecting 21\n",
        "print(sum_odd_while_v2(-7)) # expecting 0\n",
        "print(sum_odd_while_v2(11))\n",
        "print(sum_odd_while_v2(6))"
      ],
      "execution_count": null,
      "outputs": [
        {
          "output_type": "stream",
          "text": [
            "21\n",
            "0\n",
            "32\n",
            "5\n"
          ],
          "name": "stdout"
        }
      ]
    },
    {
      "cell_type": "markdown",
      "metadata": {
        "id": "aAIuXL8ovoK9"
      },
      "source": [
        "# Exercise 1"
      ]
    },
    {
      "cell_type": "code",
      "metadata": {
        "id": "kJmRcMNovrGL"
      },
      "source": [
        "def sum_odd_for_v2(n):\n",
        "  '''(int)->int\n",
        "     Returns the sum of all odd integers between 5 and n \n",
        "  '''\n",
        "  sum = 0\n",
        "\n",
        "  for i in range(5, n + 1 ,2):\n",
        "    sum = sum + i\n",
        "  return sum"
      ],
      "execution_count": null,
      "outputs": []
    },
    {
      "cell_type": "code",
      "metadata": {
        "id": "PIY_cDDGwFmS",
        "colab": {
          "base_uri": "https://localhost:8080/"
        },
        "outputId": "af87423a-d028-4319-c6ec-0f35675c55db"
      },
      "source": [
        "print(sum_odd_for_v2(10)) # expecting 21\n",
        "print(sum_odd_for_v2(-7)) # expecting 0\n",
        "print(sum_odd_for_v2(11))\n",
        "print(sum_odd_for_v2(6))"
      ],
      "execution_count": null,
      "outputs": [
        {
          "output_type": "stream",
          "text": [
            "21\n",
            "0\n",
            "32\n",
            "5\n"
          ],
          "name": "stdout"
        }
      ]
    },
    {
      "cell_type": "markdown",
      "metadata": {
        "id": "5DZcPD5zwWpv"
      },
      "source": [
        "# Exercise 2"
      ]
    },
    {
      "cell_type": "code",
      "metadata": {
        "id": "92oKAmnUwI3l",
        "colab": {
          "base_uri": "https://localhost:8080/"
        },
        "outputId": "6637e1c4-bfbe-4ac2-f18d-d43522d4eb0f"
      },
      "source": [
        "# hit: while loop will keep running until the condition is no longer turn\n",
        "\n",
        "# using a while loop\n",
        "\n",
        "choice = \"yes\"\n",
        "while choice == \"yes\":\n",
        "  x = int(input(\"Enter a number; \"))\n",
        "  y = int(input(\"Enter another number: \"))\n",
        "  print(\"The sum is\", x + y)\n",
        "  choice = input(\"Enter 'yes' to continue: \")"
      ],
      "execution_count": 9,
      "outputs": [
        {
          "output_type": "stream",
          "text": [
            "Enter a number; 9\n",
            "Enter another number: 0\n",
            "The sum is 9\n",
            "Enter 'yes' to continue: j\n"
          ],
          "name": "stdout"
        }
      ]
    },
    {
      "cell_type": "code",
      "metadata": {
        "colab": {
          "base_uri": "https://localhost:8080/"
        },
        "id": "2Q8_8RvKmU_P",
        "outputId": "135f2465-fe67-43f5-9685-bf4c1f1d334f"
      },
      "source": [
        "# using a for loop\n",
        "\n",
        "randomList = [1] # set up a random list\n",
        "for i in randomList: # loop through list\n",
        "  x = int(input(\"Enter a number; \"))\n",
        "  y = int(input(\"Enter another number: \"))\n",
        "  print(\"The sum is\", x + y)\n",
        "  user = input(\"Enter 'yes' to continue: \")\n",
        "  if user.lower().strip() == \"yes\":\n",
        "    randomList.append(1) # if \"yes\", append to list to ensure loop is continued\n"
      ],
      "execution_count": 8,
      "outputs": [
        {
          "output_type": "stream",
          "text": [
            "Enter a number; 8\n",
            "Enter another number: 9\n",
            "The sum is 17\n",
            "Enter 'yes' to continue: yes\n",
            "Enter a number; 0\n",
            "Enter another number: 9\n",
            "The sum is 9\n",
            "Enter 'yes' to continue: l\n"
          ],
          "name": "stdout"
        }
      ]
    },
    {
      "cell_type": "markdown",
      "metadata": {
        "id": "BJWkzsHkyDjt"
      },
      "source": [
        "# Exercise 3"
      ]
    },
    {
      "cell_type": "code",
      "metadata": {
        "id": "rsAfWgzyxGar"
      },
      "source": [
        "def first_neg(a):\n",
        "  ''' (list)->int\n",
        "  Returns the index of the first occurence of a negative number\n",
        "  '''\n",
        "\n",
        "  if len(a) != 0: # if empty list, return None\n",
        "    i = 0\n",
        "    while a[i]>=0:   \n",
        "      i += 1\n",
        "      if i>(len(a)-1):\n",
        "        return None\n",
        "    return a.index(a[i])\n",
        "  else:\n",
        "    return None"
      ],
      "execution_count": 17,
      "outputs": []
    },
    {
      "cell_type": "code",
      "metadata": {
        "id": "eXHVxe5myOD9",
        "colab": {
          "base_uri": "https://localhost:8080/"
        },
        "outputId": "7ed9e280-453b-4594-801c-234ecbb5807b"
      },
      "source": [
        "# Testcases for exercise 3\n",
        "print(first_neg([2, 3, -1, 4, -2])) # expecting 2\n",
        "print(first_neg([2, 3, 1, 4, 2]))   # expecting None\n",
        "print(first_neg([]))                # expecting None\n",
        "print(first_neg([1,0,0,-1]))"
      ],
      "execution_count": 19,
      "outputs": [
        {
          "output_type": "stream",
          "text": [
            "2\n",
            "None\n",
            "None\n",
            "3\n"
          ],
          "name": "stdout"
        }
      ]
    }
  ]
}