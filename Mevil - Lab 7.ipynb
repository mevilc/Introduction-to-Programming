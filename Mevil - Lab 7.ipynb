{
  "nbformat": 4,
  "nbformat_minor": 0,
  "metadata": {
    "colab": {
      "name": "Mevil - Lab 7.ipynb",
      "provenance": []
    },
    "kernelspec": {
      "name": "python3",
      "display_name": "Python 3"
    }
  },
  "cells": [
    {
      "cell_type": "markdown",
      "metadata": {
        "id": "pP7z3nTfoTRD"
      },
      "source": [
        "Exercise 1"
      ]
    },
    {
      "cell_type": "code",
      "metadata": {
        "colab": {
          "base_uri": "https://localhost:8080/"
        },
        "id": "CkcJp5TsoMyh",
        "outputId": "8f6f63b2-712a-4aaa-94f2-90d0452cae80"
      },
      "source": [
        "def indexes(word, char):\n",
        "  ''' (str, str) -> list\n",
        "  Returns a list of indices where char\n",
        "  is present in word. '''\n",
        "  store=[]\n",
        "\n",
        "  for i in range(len(word)):\n",
        "    if word[i]==char:\n",
        "      store.append(i)\n",
        "  return store\n",
        "\n",
        "word=input(\"Enter a word: \")\n",
        "char=input(\"enter a character in the word: \")\n",
        "indexes(word, char)"
      ],
      "execution_count": 11,
      "outputs": [
        {
          "output_type": "stream",
          "text": [
            "Enter a word: mississippi\n",
            "enter a character in the word: a\n"
          ],
          "name": "stdout"
        },
        {
          "output_type": "execute_result",
          "data": {
            "text/plain": [
              "[]"
            ]
          },
          "metadata": {
            "tags": []
          },
          "execution_count": 11
        }
      ]
    },
    {
      "cell_type": "markdown",
      "metadata": {
        "id": "lZObJzJbq7g9"
      },
      "source": [
        "Exercise 2"
      ]
    },
    {
      "cell_type": "code",
      "metadata": {
        "colab": {
          "base_uri": "https://localhost:8080/"
        },
        "id": "SJF5EQIMpQgQ",
        "outputId": "087a8267-6de0-49b2-dd0c-8ff0631364c8"
      },
      "source": [
        "def doubles(lst):\n",
        "  '''(list) -> int\n",
        "  Returns integers that from lst that\n",
        "  are twice the previous integers. '''\n",
        "\n",
        "  for i in range(len(lst)-1):\n",
        "    if lst[i]*2==lst[i+1]:\n",
        "      print(lst[i+1])\n",
        "\n",
        "doubles([3,0,1,2,3,6,2,4,5,6,5])"
      ],
      "execution_count": 14,
      "outputs": [
        {
          "output_type": "stream",
          "text": [
            "2\n",
            "6\n",
            "4\n"
          ],
          "name": "stdout"
        }
      ]
    },
    {
      "cell_type": "markdown",
      "metadata": {
        "id": "L887adyfslBW"
      },
      "source": [
        "Exercise 3"
      ]
    },
    {
      "cell_type": "code",
      "metadata": {
        "colab": {
          "base_uri": "https://localhost:8080/"
        },
        "id": "RcK_cg8psmV_",
        "outputId": "5d2eaa57-e565-4de2-93e9-97f97ee7688b"
      },
      "source": [
        "def four_letter(lst_words):\n",
        "  '''(list) -> list\n",
        "  Returns a list of words from lst_words\n",
        "  that are four-lettered.'''\n",
        "\n",
        "  new_lst=[]\n",
        "  for i in lst_words:\n",
        "    if len(i)==4:\n",
        "      new_lst.append(i)\n",
        "  return new_lst\n",
        "\n",
        "four_letter(['dog','letter','stop','door','bus','dust'])"
      ],
      "execution_count": 23,
      "outputs": [
        {
          "output_type": "execute_result",
          "data": {
            "text/plain": [
              "['stop', 'door', 'dust']"
            ]
          },
          "metadata": {
            "tags": []
          },
          "execution_count": 23
        }
      ]
    },
    {
      "cell_type": "markdown",
      "metadata": {
        "id": "pnkycFNPuLM5"
      },
      "source": [
        "Exercise 4"
      ]
    },
    {
      "cell_type": "code",
      "metadata": {
        "colab": {
          "base_uri": "https://localhost:8080/"
        },
        "id": "scobUxM3uMlr",
        "outputId": "488bf1db-bf91-47ec-a021-2e6eac45b4ac"
      },
      "source": [
        "def inBoth(lst1, lst2):\n",
        "  '''(list1, list2) -> Bool\n",
        "  Returns True if any element in lst 1 \n",
        "  is also in lst 2. False Otherwise. '''\n",
        "\n",
        "  for i in lst1:\n",
        "    if i in lst2:\n",
        "      return True\n",
        "    else:\n",
        "      return False\n",
        "\n",
        "inBoth([2,2,5,4,7],[9,0,1,3])"
      ],
      "execution_count": 26,
      "outputs": [
        {
          "output_type": "execute_result",
          "data": {
            "text/plain": [
              "False"
            ]
          },
          "metadata": {
            "tags": []
          },
          "execution_count": 26
        }
      ]
    },
    {
      "cell_type": "markdown",
      "metadata": {
        "id": "zNHBvJC5vI6w"
      },
      "source": [
        "Exercise 5"
      ]
    },
    {
      "cell_type": "code",
      "metadata": {
        "colab": {
          "base_uri": "https://localhost:8080/"
        },
        "id": "1LLUjUUPvKQR",
        "outputId": "4933074c-df7a-4bbd-cdd7-dc59dfe3b1db"
      },
      "source": [
        "def intersect(lst1, lst2):\n",
        "  '''(list1, list2) -> list\n",
        "  Returns a list that intersects\n",
        "  lst1 and lst2. '''\n",
        "\n",
        "  lst3=[]\n",
        "  for i in lst1:\n",
        "    if i in lst2:\n",
        "      lst3.append(i)\n",
        "  return lst3\n",
        "\n",
        "intersect([3,5,6,7,9],[4,2,6,3,9])\n"
      ],
      "execution_count": 28,
      "outputs": [
        {
          "output_type": "execute_result",
          "data": {
            "text/plain": [
              "[3, 6, 9]"
            ]
          },
          "metadata": {
            "tags": []
          },
          "execution_count": 28
        }
      ]
    },
    {
      "cell_type": "markdown",
      "metadata": {
        "id": "gMRUNWE6v2D5"
      },
      "source": [
        "Exercise 6"
      ]
    },
    {
      "cell_type": "code",
      "metadata": {
        "colab": {
          "base_uri": "https://localhost:8080/"
        },
        "id": "K5VeCnLNv3Jy",
        "outputId": "269f8df6-f801-4a5b-9148-21812c0f65da"
      },
      "source": [
        "def pair(lst1, lst2, n):\n",
        "  '''(list,list,int) -> int\n",
        "  Returns a pair of integers from\n",
        "  lst1 and lst2 that add to n. '''\n",
        "\n",
        "  for i in lst1:\n",
        "    for j in lst2:\n",
        "      if i+j==9:\n",
        "        print(i,j) \n",
        "\n",
        "pair([2,3,4],[5,7,9,12],9)"
      ],
      "execution_count": 29,
      "outputs": [
        {
          "output_type": "stream",
          "text": [
            "2 7\n",
            "4 5\n"
          ],
          "name": "stdout"
        }
      ]
    },
    {
      "cell_type": "markdown",
      "metadata": {
        "id": "moNRRLM90XSe"
      },
      "source": [
        "Exercise 7"
      ]
    },
    {
      "cell_type": "code",
      "metadata": {
        "colab": {
          "base_uri": "https://localhost:8080/"
        },
        "id": "s-y95-110ZdK",
        "outputId": "9108879b-c753-4549-bb15-945dbd176b10"
      },
      "source": [
        "def last_first(name_lst):\n",
        "  '''(list) -> list\n",
        "  Returns a first name and last\n",
        "  name list from name_lst. '''\n",
        "\n",
        "  first_name=[]\n",
        "  last_name=[]\n",
        "  for i in name_lst:\n",
        "    split_list=i.split(\",\")\n",
        "    first_name.append(split_list[1])\n",
        "    last_name.append(split_list[0])\n",
        "  return [first_name,last_name]\n",
        "\n",
        "last_first(['Gerber, Len','Fox, Kate', 'Dunn, Bob'])"
      ],
      "execution_count": 41,
      "outputs": [
        {
          "output_type": "execute_result",
          "data": {
            "text/plain": [
              "[[' Len', ' Kate', ' Bob'], ['Gerber', 'Fox', 'Dunn']]"
            ]
          },
          "metadata": {
            "tags": []
          },
          "execution_count": 41
        }
      ]
    },
    {
      "cell_type": "markdown",
      "metadata": {
        "id": "eSkOS4I02LHA"
      },
      "source": [
        "Exercise 8"
      ]
    },
    {
      "cell_type": "code",
      "metadata": {
        "colab": {
          "base_uri": "https://localhost:8080/"
        },
        "id": "6khGf_AD2MWS",
        "outputId": "efb9f833-de96-436e-fd38-2524ca00a7ea"
      },
      "source": [
        "def subsetSum(lst, n):\n",
        "  '''(list,int) -> Bool\n",
        "  Returns True if the sum of any three\n",
        "  integers in lst adds to n. '''\n",
        "\n",
        "  for i in lst:\n",
        "    for j in lst[1:]:\n",
        "      for k in lst[2:]:\n",
        "        if i+j+k==n:\n",
        "          return True\n",
        "  return False\n",
        "\n",
        "subsetSum([5,4,10,20,15,19],10)"
      ],
      "execution_count": 44,
      "outputs": [
        {
          "output_type": "execute_result",
          "data": {
            "text/plain": [
              "False"
            ]
          },
          "metadata": {
            "tags": []
          },
          "execution_count": 44
        }
      ]
    },
    {
      "cell_type": "markdown",
      "metadata": {
        "id": "_YPmVAX53rqN"
      },
      "source": [
        "Exercise 9"
      ]
    },
    {
      "cell_type": "code",
      "metadata": {
        "colab": {
          "base_uri": "https://localhost:8080/"
        },
        "id": "SK1zD3T_3s9y",
        "outputId": "6a3fea35-f560-4a25-83d8-adc974bf01a1"
      },
      "source": [
        "def mystery(n):\n",
        "  '''(int) -> int\n",
        "  Returns number of times n\n",
        "  can be halved before reaching 1. '''\n",
        "\n",
        "  res=n//2\n",
        "  for i in range(2,n+2):\n",
        "    res=res//2\n",
        "    if res == 1:\n",
        "      return i\n",
        "\n",
        "mystery(25)"
      ],
      "execution_count": 53,
      "outputs": [
        {
          "output_type": "execute_result",
          "data": {
            "text/plain": [
              "4"
            ]
          },
          "metadata": {
            "tags": []
          },
          "execution_count": 53
        }
      ]
    },
    {
      "cell_type": "markdown",
      "metadata": {
        "id": "Qz9seviw6Xew"
      },
      "source": [
        "Exercise 10"
      ]
    },
    {
      "cell_type": "code",
      "metadata": {
        "colab": {
          "base_uri": "https://localhost:8080/"
        },
        "id": "oWF3oJCv6ZA3",
        "outputId": "ca3ad5f1-f8c3-4925-8e19-62474e4e71fb"
      },
      "source": [
        "def inversions(sequence):\n",
        "  '''(str) -> int\n",
        "  Returns the number of inversions\n",
        "  in sequence. '''\n",
        "\n",
        "  count=0\n",
        "  for i in range(len(sequence)):\n",
        "    for j in sequence[i:]:\n",
        "      if ord(sequence[i])>ord(j):\n",
        "        count+=1\n",
        "  return count\n",
        "\n",
        "inversions(\"DCBA\")"
      ],
      "execution_count": 59,
      "outputs": [
        {
          "output_type": "execute_result",
          "data": {
            "text/plain": [
              "6"
            ]
          },
          "metadata": {
            "tags": []
          },
          "execution_count": 59
        }
      ]
    },
    {
      "cell_type": "markdown",
      "metadata": {
        "id": "Ot3roSHrHOEE"
      },
      "source": [
        "Exercise 11"
      ]
    },
    {
      "cell_type": "code",
      "metadata": {
        "colab": {
          "base_uri": "https://localhost:8080/"
        },
        "id": "05Ca8x5BHPby",
        "outputId": "998af8cb-5096-41d2-8006-1d2149005095"
      },
      "source": [
        "def sublist(lst1, lst2):\n",
        "  '''(list,list) -> Bool\n",
        "  Returns True if lst1 is a sublist\n",
        "  of lst2. False otherwise. '''\n",
        "\n",
        "  count=0\n",
        "  for i in range(len(lst1)-1):\n",
        "    if (lst2.index(lst1[i])<lst2.index(lst1[i+1])):\n",
        "      count+=1\n",
        "  if count==len(lst1)-1:\n",
        "    return True\n",
        "  return False\n",
        "\n",
        "\n",
        "sublist([15,50,20],[20,15,30,50,1,100])"
      ],
      "execution_count": 101,
      "outputs": [
        {
          "output_type": "execute_result",
          "data": {
            "text/plain": [
              "False"
            ]
          },
          "metadata": {
            "tags": []
          },
          "execution_count": 101
        }
      ]
    }
  ]
}