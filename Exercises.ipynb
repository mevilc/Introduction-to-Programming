{
  "nbformat": 4,
  "nbformat_minor": 0,
  "metadata": {
    "colab": {
      "name": "Exercises.ipynb",
      "provenance": [],
      "collapsed_sections": [
        "x7F-5e9JVWSt",
        "yzbq8r9SXbY-",
        "dW9alkelcCTQ",
        "DV3zZ8dpdOb0"
      ]
    },
    "kernelspec": {
      "name": "python3",
      "display_name": "Python 3"
    }
  },
  "cells": [
    {
      "cell_type": "markdown",
      "metadata": {
        "id": "x7F-5e9JVWSt"
      },
      "source": [
        "# Exercise 0"
      ]
    },
    {
      "cell_type": "markdown",
      "metadata": {
        "id": "daEFCXwWVayI"
      },
      "source": [
        "Write a function called ***ah(l,x,y)*** that given a list l and two integers x and y such that x <= y. ***ah(l,x,y)*** returns two numbers. The first is the number of elements of l that are between x and y (including x and y). The second number is the minimum element of l that is between x and y (including x and y)."
      ]
    },
    {
      "cell_type": "code",
      "metadata": {
        "id": "hpYRwWNIVebB"
      },
      "source": [
        "def ah(l,x,y):\n",
        "     '''(list, int,int)->(int,number/+inf)\n",
        "     Returns one number that is between x and y\n",
        "     from the list l. Returns another number\n",
        "     that is the min in list l.\n",
        "     Precondition: x <= y\n",
        "                   and list l contains numbers\n",
        "     '''\n",
        "     num_elem=[] # empty list to store appropriate elements\n",
        "     for i in l:\n",
        "       if i>=x and i<=y: # if elem in list is within x and y, add to list\n",
        "         num_elem.append(i)\n",
        "     return (len(num_elem),min(num_elem)) # len(list), min(list). Returns a tuple"
      ],
      "execution_count": null,
      "outputs": []
    },
    {
      "cell_type": "code",
      "metadata": {
        "id": "WLX3v7eUV7JM",
        "colab": {
          "base_uri": "https://localhost:8080/"
        },
        "outputId": "3d9a29d9-08ba-47d7-ce8d-ba7fb473521a"
      },
      "source": [
        "# Testcase for ah\n",
        "t=[5, 1, -2.5, 10, 13, 8]\n",
        "print(ah(t, 2, 11)) # excepting (3, 5)"
      ],
      "execution_count": null,
      "outputs": [
        {
          "output_type": "stream",
          "text": [
            "(3, 5)\n"
          ],
          "name": "stdout"
        }
      ]
    },
    {
      "cell_type": "markdown",
      "metadata": {
        "id": "yzbq8r9SXbY-"
      },
      "source": [
        "# Exercise 1"
      ]
    },
    {
      "cell_type": "code",
      "metadata": {
        "id": "FwipPOwFXwTm"
      },
      "source": [
        "def divisors(n):\n",
        "     '''(int)->None\n",
        "     prints all the divisors of n\n",
        "     Precondition: n is a positive integer'''\n",
        "     divis=[]\n",
        "\n",
        "     for i in range(1,n+1):\n",
        "       if n%i==0:\n",
        "         divis.append(i)\n",
        "     return divis # returns list of divisors of n"
      ],
      "execution_count": null,
      "outputs": []
    },
    {
      "cell_type": "code",
      "metadata": {
        "id": "7scf4oH-WM8E"
      },
      "source": [
        "def is_perfect(n):\n",
        "     ''' (number)->bool\n",
        "     Returns True if the given positive integer n is perfect\n",
        "     Precondition: n>=1\n",
        "     '''\n",
        "     list_from_f=divisors(n) # calls divisors function and stores in variable\n",
        "\n",
        "     # check if all divisors, excluding n, equal to the last element in list (aka, the last divisor, or n)\n",
        "     return sum(list_from_f[0:len(list_from_f)-1])==list_from_f[len(list_from_f)-1]"
      ],
      "execution_count": null,
      "outputs": []
    },
    {
      "cell_type": "code",
      "metadata": {
        "id": "U7y9M1JFZABz",
        "colab": {
          "base_uri": "https://localhost:8080/"
        },
        "outputId": "e4992e4a-f7df-488d-b19f-400ec4c3ac50"
      },
      "source": [
        "# testcases for is_perfect\n",
        "print(is_perfect(3)) # excepting False\n",
        "print(is_perfect(6)) # excepting True\n",
        "print(is_perfect(8128)) # excepting True \n",
        "print(is_perfect(9734)) # excepting False"
      ],
      "execution_count": null,
      "outputs": [
        {
          "output_type": "stream",
          "text": [
            "False\n",
            "True\n",
            "True\n",
            "False\n"
          ],
          "name": "stdout"
        }
      ]
    },
    {
      "cell_type": "markdown",
      "metadata": {
        "id": "dW9alkelcCTQ"
      },
      "source": [
        "# Exercise 2"
      ]
    },
    {
      "cell_type": "code",
      "metadata": {
        "id": "Ii9R9bQrb8Vn"
      },
      "source": [
        "def arithmetic(l):\n",
        "  '''(list)->bool\n",
        "  Returns True if list l contains an arithmetic sequence,\n",
        "  False otherwise\n",
        "  Precondition: Elements of l are numbers'''\n",
        "\n",
        "  if len(l)<2: # if list is only 1, its arithmetic\n",
        "    return True\n",
        "\n",
        "  res=l[1]-l[0] # keeps track of difference between first 2 elements\n",
        "  \n",
        "  for i in range(len(l)-1):\n",
        "    if l[i+1]-l[i]!=res:\n",
        "      return False\n",
        "  return True"
      ],
      "execution_count": null,
      "outputs": []
    },
    {
      "cell_type": "code",
      "metadata": {
        "id": "3WQ5G1oJcHT1",
        "colab": {
          "base_uri": "https://localhost:8080/"
        },
        "outputId": "e6e70909-34ad-4a96-d19e-1a0d03f8a705"
      },
      "source": [
        "print(arithmetic( [-5, -1, 3, 7, 11] )) # excepting True\n",
        "print(arithmetic( [-5, -1, 3, 7, 11] )) # excepting True\n",
        "print(arithmetic( [5, 10, 15, 24, 29] )) # excepting False"
      ],
      "execution_count": null,
      "outputs": [
        {
          "output_type": "stream",
          "text": [
            "True\n",
            "True\n",
            "False\n"
          ],
          "name": "stdout"
        }
      ]
    },
    {
      "cell_type": "markdown",
      "metadata": {
        "id": "DV3zZ8dpdOb0"
      },
      "source": [
        "# Exercise 3"
      ]
    },
    {
      "cell_type": "code",
      "metadata": {
        "id": "0-DailstcYMM"
      },
      "source": [
        "# Exercise 3"
      ],
      "execution_count": null,
      "outputs": []
    },
    {
      "cell_type": "code",
      "metadata": {
        "id": "a8NbuRsBcpfb"
      },
      "source": [
        "def is_sorted(l):\n",
        "  '''(list)->bool\n",
        "  Returns True if list l is sorted from smallest to largest number,\n",
        "  False otherwise\n",
        "  Precondition: Elements of l are numbers'''\n",
        "  \n",
        "  if len(l)<2:\n",
        "    return True # if only one element, its sorted\n",
        "  \n",
        "  for i in range(len(l)-1):\n",
        "    if l[i]>l[i+1]: # always start the condition that breaks first\n",
        "      return False\n",
        "  return True"
      ],
      "execution_count": null,
      "outputs": []
    },
    {
      "cell_type": "code",
      "metadata": {
        "id": "n5oYz1-Ycsfk",
        "colab": {
          "base_uri": "https://localhost:8080/"
        },
        "outputId": "5bf46510-7b78-49d7-8bfd-016fd07eb411"
      },
      "source": [
        "print(is_sorted([1, 1, 1, 7, 7]))      # Excepting True\n",
        "print(is_sorted([-10, -1, 3, 7, 100])) # Excepting True\n",
        "print(is_sorted([0, 3, 1, 7, 11]))     # Excepting False\n",
        "print(is_sorted([5, -10, 15, 24, 29])) # Excepting False\n"
      ],
      "execution_count": null,
      "outputs": [
        {
          "output_type": "stream",
          "text": [
            "True\n",
            "True\n",
            "False\n",
            "False\n"
          ],
          "name": "stdout"
        }
      ]
    }
  ]
}