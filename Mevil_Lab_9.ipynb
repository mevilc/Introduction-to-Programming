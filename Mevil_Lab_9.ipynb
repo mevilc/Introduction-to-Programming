{
  "nbformat": 4,
  "nbformat_minor": 0,
  "metadata": {
    "colab": {
      "name": "Mevil - Lab 9.ipynb",
      "provenance": [],
      "collapsed_sections": []
    },
    "kernelspec": {
      "name": "python3",
      "display_name": "Python 3"
    }
  },
  "cells": [
    {
      "cell_type": "markdown",
      "metadata": {
        "id": "s08GOD7AFMvK"
      },
      "source": [
        "#Exercise 0"
      ]
    },
    {
      "cell_type": "code",
      "metadata": {
        "id": "vLe9ffSqFKlk",
        "colab": {
          "base_uri": "https://localhost:8080/"
        },
        "outputId": "f58cb968-06b3-4349-f927-ff146c9f268c"
      },
      "source": [
        "def get_year():\n",
        "  ''' (None)->int\n",
        "  Returns the 4 digit number entered\n",
        "  by the user. If no number entered,\n",
        "  keep asking. '''\n",
        "\n",
        "  flag=True\n",
        "  while flag: \n",
        "    try:\n",
        "      user=int(input('enter an integer: ')) # asks user for input\n",
        "      if user<=9999 and user>=1000: # checks if input is valid\n",
        "        flag=False # if valid, no need to ask the question again. While loop terminates.\n",
        "      else: # if not valid, ask question again\n",
        "        user=int(input('enter an integer: '))\n",
        "    except ValueError: # if an error rises, print statement below\n",
        "      print(\"Please enter a 4-digit number. \")\n",
        "\n",
        "  return user\n",
        "\n",
        "get_year()"
      ],
      "execution_count": 14,
      "outputs": [
        {
          "output_type": "stream",
          "text": [
            "enter an integer: 8777\n"
          ],
          "name": "stdout"
        },
        {
          "output_type": "execute_result",
          "data": {
            "text/plain": [
              "8777"
            ]
          },
          "metadata": {
            "tags": []
          },
          "execution_count": 14
        }
      ]
    },
    {
      "cell_type": "markdown",
      "metadata": {
        "id": "X4vB2ygNFcTn"
      },
      "source": [
        "#Exercise 1"
      ]
    },
    {
      "cell_type": "code",
      "metadata": {
        "id": "WzVwSeqmFf2k"
      },
      "source": [
        "# LINEAR SERACH FROM THE BACK OF THE LIST\n",
        "\n",
        "\n",
        "# implementation with while loop\n",
        "def linear_search_v1(lst, value):\n",
        "  \"\"\" (list, object) -> int\n",
        "\n",
        "  Return the index of the last occurrence of value in lst, or return\n",
        "  -1 if value is not in lst.\n",
        "  \"\"\"\n",
        "  i = len(lst)-1\n",
        "  while i != -1 and lst[i] != value:\n",
        "    i=i-1\n",
        "  if i == 0:\n",
        "    return -1\n",
        "  else:\n",
        "    return i"
      ],
      "execution_count": 1,
      "outputs": []
    },
    {
      "cell_type": "code",
      "metadata": {
        "id": "7qxJy328KX2L",
        "colab": {
          "base_uri": "https://localhost:8080/"
        },
        "outputId": "960942f7-29ca-4692-fe7f-6aa5d3abdefa"
      },
      "source": [
        "print(linear_search_v1([2, 5, 1, -3], 5)) #Expecting 1\n",
        "print(linear_search_v1([2, 4, 2], 2))     #Expecting 2\n",
        "print(linear_search_v1([2, 5, 1, -3], 4)) #Expecting -1\n",
        "print(linear_search_v1([], 5))            #Expecting -1"
      ],
      "execution_count": 2,
      "outputs": [
        {
          "output_type": "stream",
          "text": [
            "1\n",
            "2\n",
            "-1\n",
            "-1\n"
          ],
          "name": "stdout"
        }
      ]
    },
    {
      "cell_type": "code",
      "metadata": {
        "id": "yUbCa1dAJdfT"
      },
      "source": [
        "\n",
        "# implementation with for loop\n",
        "def linear_search_v2(lst, value):\n",
        "  \"\"\" (list, object) -> int\n",
        "\n",
        "  Return the index of the last occurrence of value in lst, or return\n",
        "  -1 if value is not in lst.\n",
        "  \"\"\"\n",
        "  for i in range(len(lst)-1,-1,-1):\n",
        "    if lst[i] == value:\n",
        "      return i\n",
        "  return -1"
      ],
      "execution_count": 3,
      "outputs": []
    },
    {
      "cell_type": "code",
      "metadata": {
        "id": "_Gzh_gHOK114",
        "colab": {
          "base_uri": "https://localhost:8080/"
        },
        "outputId": "3971a9ca-8e13-47ee-84be-59968b417942"
      },
      "source": [
        "print(linear_search_v2([2, 5, 1, -3], 5)) # Expecting 1\n",
        "print(linear_search_v2([2, 4, 2], 2))     # Expecting 2\n",
        "print(linear_search_v2([2, 5, 1, -3], 4)) # Expecting -1\n",
        "print(linear_search_v2([], 5))            # Expecting -1"
      ],
      "execution_count": 4,
      "outputs": [
        {
          "output_type": "stream",
          "text": [
            "1\n",
            "2\n",
            "-1\n",
            "-1\n"
          ],
          "name": "stdout"
        }
      ]
    },
    {
      "cell_type": "code",
      "metadata": {
        "id": "x4oviz5bJgTl"
      },
      "source": [
        "\n",
        "#implementation with sentinal version:\n",
        "\n",
        "def linear_search_v3(lst, value):\n",
        "  \"\"\" (list, object) -> int\n",
        "\n",
        "  Return the index of the last occurrence of value in lst, or return\n",
        "  -1 if value is not in lst.\n",
        "  \"\"\"\n",
        "  lst.insert(0,value)\n",
        "  i=len(lst)-1\n",
        "  while lst[i] != value:\n",
        "    i=i-1\n",
        "  lst.pop(0)\n",
        "  if i == 0:\n",
        "    return -1\n",
        "  else:\n",
        "    return i-1\n"
      ],
      "execution_count": 5,
      "outputs": []
    },
    {
      "cell_type": "code",
      "metadata": {
        "id": "YCUJCCTNLFtl",
        "colab": {
          "base_uri": "https://localhost:8080/"
        },
        "outputId": "8af5dff1-e8c6-46ec-ab1e-9b393a55e6a5"
      },
      "source": [
        "print(linear_search_v3([2, 5, 1, -3], 5)) # Expecting 1\n",
        "print(linear_search_v3([2, 4, 2], 2))     # Expecting 2\n",
        "print(linear_search_v3([2, 5, 1, -3], 4)) # Expecting -1\n",
        "print(linear_search_v3([], 5))            # Expecting -1"
      ],
      "execution_count": 6,
      "outputs": [
        {
          "output_type": "stream",
          "text": [
            "1\n",
            "2\n",
            "-1\n",
            "-1\n"
          ],
          "name": "stdout"
        }
      ]
    },
    {
      "cell_type": "markdown",
      "metadata": {
        "id": "3a6C_iCzL6sh"
      },
      "source": [
        "# Exercise 2"
      ]
    },
    {
      "cell_type": "code",
      "metadata": {
        "id": "LLpH_fnOL6MI"
      },
      "source": [
        "def min_or_max_index(L, flag):\n",
        "  \"\"\" (list, bool) -> tuple of (object, int)\n",
        "\n",
        "  Return the minimum or maximum item and its index from L, depending on\n",
        "  whether flag is True or False.\n",
        "  \"\"\"\n",
        "  maxL=L[0]\n",
        "  minL=L[0]\n",
        "\n",
        "  if flag==False:\n",
        "    for i in range(1,len(L)-2):\n",
        "      if L[i]>maxL:\n",
        "        maxL=L[i]\n",
        "    return (maxL,L.index(maxL))\n",
        "  else:\n",
        "    for j in range(1,len(L)-1):\n",
        "      if L[j]<minL:\n",
        "        minL=L[j]\n",
        "    return (minL,L.index(minL))"
      ],
      "execution_count": 24,
      "outputs": []
    },
    {
      "cell_type": "code",
      "metadata": {
        "id": "eLPGogMuMNZV",
        "colab": {
          "base_uri": "https://localhost:8080/"
        },
        "outputId": "0f234bd3-642d-48a0-a734-88c605e6c63d"
      },
      "source": [
        "print(min_or_max_index([4, 3, 2, 4, 3, 6, 1, 5], True)) # Expecting (1, 6)\n",
        "print(min_or_max_index([4, 3, 2, 4, 3, 6, 1, 5], False)) # Expecting (6, 5)\n",
        "print(min_or_max_index([4, 3, 6, 4, 3, 0, 1, 5], False))"
      ],
      "execution_count": 25,
      "outputs": [
        {
          "output_type": "stream",
          "text": [
            "(1, 6)\n",
            "(6, 5)\n",
            "(6, 2)\n"
          ],
          "name": "stdout"
        }
      ]
    },
    {
      "cell_type": "markdown",
      "metadata": {
        "id": "lxUNBX7hOJzv"
      },
      "source": [
        "# Exercise 3"
      ]
    },
    {
      "cell_type": "code",
      "metadata": {
        "id": "qSqLHmWsMafz"
      },
      "source": [
        "def first_one(L):\n",
        "  ''' (list) -> int\n",
        "  Return the index of the first occurrence of 1 in L, or return\n",
        "  -1 if 1 is not in L.\n",
        "  Precondition: L only has 0s and 1s and all 0s appear before all 1s\n",
        "  '''\n",
        "  b=0\n",
        "  e = len(L) - 1\n",
        "  \n",
        "  while b != e + 1:\n",
        "    mid = (b + e) // 2\n",
        "    if L[mid] ==0:\n",
        "      b=mid+1\n",
        "    else:\n",
        "      e=mid-1\n",
        "        \n",
        "  if 0 <= b < len(L) and L[b] == 1:\n",
        "    return b\n",
        "  else:\n",
        "    return -1\n"
      ],
      "execution_count": 26,
      "outputs": []
    },
    {
      "cell_type": "code",
      "metadata": {
        "id": "Z9r4q01qOwma",
        "colab": {
          "base_uri": "https://localhost:8080/"
        },
        "outputId": "b623621a-44d4-488f-ecd1-50f4fa3a8b48"
      },
      "source": [
        "print(first_one( [0,0,0,0,0,0,1,1] )) # Expecting  5\n",
        "print(first_one( [1,1] ))             # Expecting  0\n",
        "print(first_one( [0,0,0] ))           # Expecting  -1"
      ],
      "execution_count": 27,
      "outputs": [
        {
          "output_type": "stream",
          "text": [
            "6\n",
            "0\n",
            "-1\n"
          ],
          "name": "stdout"
        }
      ]
    },
    {
      "cell_type": "code",
      "metadata": {
        "id": "fc5iapw4OuPV"
      },
      "source": [
        "\n",
        "def last_zero(L):\n",
        "  ''' (list) -> int\n",
        "  Return the index of the last occurrence of 0 in L, or return\n",
        "  -1 if 0 is not in L.\n",
        "  Precondition: L only has 0s and 1s and all 0s appear before all 1s'''\n",
        "\n",
        "  if \n",
        "  d=first_one(L)-1"
      ],
      "execution_count": null,
      "outputs": []
    }
  ]
}